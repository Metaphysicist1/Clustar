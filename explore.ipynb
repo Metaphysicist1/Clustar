{
 "cells": [
  {
   "cell_type": "markdown",
   "metadata": {},
   "source": [
    "<a href=\"https://www.kaggle.com/code/edgarabasov/notebookef60b8444c?scriptVersionId=238001136\" target=\"_blank\"><img align=\"left\" alt=\"Kaggle\" title=\"Open in Kaggle\" src=\"https://kaggle.com/static/images/open-in-kaggle.svg\"></a>"
   ]
  },
  {
   "cell_type": "code",
   "execution_count": 7,
   "metadata": {
    "execution": {
     "iopub.execute_input": "2025-05-05T17:46:02.971714Z",
     "iopub.status.busy": "2025-05-05T17:46:02.971335Z",
     "iopub.status.idle": "2025-05-05T17:46:02.978565Z",
     "shell.execute_reply": "2025-05-05T17:46:02.977373Z",
     "shell.execute_reply.started": "2025-05-05T17:46:02.971684Z"
    },
    "trusted": true
   },
   "outputs": [],
   "source": [
    "import pandas as pd\n",
    "import numpy as np\n",
    "import matplotlib.pyplot as plt\n",
    "import seaborn as sns\n",
    "\n",
    "from sklearn.cluster import KMeans\n",
    "from sklearn.decomposition import PCA\n",
    "from sklearn.preprocessing import StandardScaler\n",
    "from sklearn.metrics import silhouette_score\n"
   ]
  },
  {
   "cell_type": "code",
   "execution_count": 8,
   "metadata": {
    "execution": {
     "iopub.execute_input": "2025-05-05T17:46:02.980516Z",
     "iopub.status.busy": "2025-05-05T17:46:02.980136Z",
     "iopub.status.idle": "2025-05-05T17:46:02.999361Z",
     "shell.execute_reply": "2025-05-05T17:46:02.998249Z",
     "shell.execute_reply.started": "2025-05-05T17:46:02.980483Z"
    },
    "trusted": true
   },
   "outputs": [],
   "source": [
    "FOLDER_PATH = '/kaggle/input/star-observations-dataset'\n",
    "FILE_NAME = \"Star_Data_2025.04.16_04.44.28.csv\"\n",
    "FULL_PATH = FOLDER_PATH + '/' + FILE_NAME"
   ]
  },
  {
   "cell_type": "code",
   "execution_count": 9,
   "metadata": {
    "execution": {
     "iopub.execute_input": "2025-05-05T17:46:03.00081Z",
     "iopub.status.busy": "2025-05-05T17:46:03.000478Z",
     "iopub.status.idle": "2025-05-05T17:46:03.307781Z",
     "shell.execute_reply": "2025-05-05T17:46:03.306849Z",
     "shell.execute_reply.started": "2025-05-05T17:46:03.000779Z"
    },
    "trusted": true
   },
   "outputs": [],
   "source": [
    "df = pd.read_csv(FULL_PATH)"
   ]
  },
  {
   "cell_type": "code",
   "execution_count": 10,
   "metadata": {
    "execution": {
     "iopub.execute_input": "2025-05-05T17:46:03.309948Z",
     "iopub.status.busy": "2025-05-05T17:46:03.309684Z",
     "iopub.status.idle": "2025-05-05T17:46:03.346434Z",
     "shell.execute_reply": "2025-05-05T17:46:03.345391Z",
     "shell.execute_reply.started": "2025-05-05T17:46:03.309928Z"
    },
    "trusted": true
   },
   "outputs": [
    {
     "name": "stderr",
     "output_type": "stream",
     "text": [
      "/usr/local/lib/python3.11/dist-packages/pandas/io/formats/format.py:1458: RuntimeWarning: invalid value encountered in greater\n",
      "  has_large_values = (abs_vals > 1e6).any()\n",
      "/usr/local/lib/python3.11/dist-packages/pandas/io/formats/format.py:1459: RuntimeWarning: invalid value encountered in less\n",
      "  has_small_values = ((abs_vals < 10 ** (-self.digits)) & (abs_vals > 0)).any()\n",
      "/usr/local/lib/python3.11/dist-packages/pandas/io/formats/format.py:1459: RuntimeWarning: invalid value encountered in greater\n",
      "  has_small_values = ((abs_vals < 10 ** (-self.digits)) & (abs_vals > 0)).any()\n"
     ]
    },
    {
     "data": {
      "text/html": [
       "<div>\n",
       "<style scoped>\n",
       "    .dataframe tbody tr th:only-of-type {\n",
       "        vertical-align: middle;\n",
       "    }\n",
       "\n",
       "    .dataframe tbody tr th {\n",
       "        vertical-align: top;\n",
       "    }\n",
       "\n",
       "    .dataframe thead th {\n",
       "        text-align: right;\n",
       "    }\n",
       "</style>\n",
       "<table border=\"1\" class=\"dataframe\">\n",
       "  <thead>\n",
       "    <tr style=\"text-align: right;\">\n",
       "      <th></th>\n",
       "      <th>star_id</th>\n",
       "      <th>region</th>\n",
       "      <th>ra</th>\n",
       "      <th>dec</th>\n",
       "      <th>starthjd</th>\n",
       "      <th>endhjd</th>\n",
       "      <th>bmag</th>\n",
       "      <th>berr</th>\n",
       "      <th>vmag</th>\n",
       "      <th>verr</th>\n",
       "      <th>rmag</th>\n",
       "      <th>rerr</th>\n",
       "      <th>imag</th>\n",
       "      <th>ierr</th>\n",
       "      <th>lcfil</th>\n",
       "      <th>npts</th>\n",
       "    </tr>\n",
       "  </thead>\n",
       "  <tbody>\n",
       "    <tr>\n",
       "      <th>0</th>\n",
       "      <td>NGC2301_Center_2</td>\n",
       "      <td>NGC2301</td>\n",
       "      <td>103.0431</td>\n",
       "      <td>0.4158</td>\n",
       "      <td>2453047.76</td>\n",
       "      <td>2453058.94</td>\n",
       "      <td>11.139</td>\n",
       "      <td>0.002</td>\n",
       "      <td>NaN</td>\n",
       "      <td>NaN</td>\n",
       "      <td>11.083</td>\n",
       "      <td>0.003</td>\n",
       "      <td>NaN</td>\n",
       "      <td>NaN</td>\n",
       "      <td>R</td>\n",
       "      <td>167</td>\n",
       "    </tr>\n",
       "    <tr>\n",
       "      <th>1</th>\n",
       "      <td>NGC2301_Center_3</td>\n",
       "      <td>NGC2301</td>\n",
       "      <td>102.9154</td>\n",
       "      <td>0.4254</td>\n",
       "      <td>2453047.76</td>\n",
       "      <td>2453058.94</td>\n",
       "      <td>12.193</td>\n",
       "      <td>0.001</td>\n",
       "      <td>NaN</td>\n",
       "      <td>NaN</td>\n",
       "      <td>11.869</td>\n",
       "      <td>0.005</td>\n",
       "      <td>NaN</td>\n",
       "      <td>NaN</td>\n",
       "      <td>R</td>\n",
       "      <td>167</td>\n",
       "    </tr>\n",
       "    <tr>\n",
       "      <th>2</th>\n",
       "      <td>NGC2301_Center_4</td>\n",
       "      <td>NGC2301</td>\n",
       "      <td>102.9629</td>\n",
       "      <td>0.4276</td>\n",
       "      <td>2453047.76</td>\n",
       "      <td>2453058.94</td>\n",
       "      <td>11.976</td>\n",
       "      <td>0.001</td>\n",
       "      <td>NaN</td>\n",
       "      <td>NaN</td>\n",
       "      <td>11.460</td>\n",
       "      <td>0.003</td>\n",
       "      <td>NaN</td>\n",
       "      <td>NaN</td>\n",
       "      <td>R</td>\n",
       "      <td>167</td>\n",
       "    </tr>\n",
       "    <tr>\n",
       "      <th>3</th>\n",
       "      <td>NGC2301_Center_5</td>\n",
       "      <td>NGC2301</td>\n",
       "      <td>103.0485</td>\n",
       "      <td>0.4260</td>\n",
       "      <td>2453047.76</td>\n",
       "      <td>2453058.94</td>\n",
       "      <td>11.065</td>\n",
       "      <td>0.002</td>\n",
       "      <td>NaN</td>\n",
       "      <td>NaN</td>\n",
       "      <td>10.992</td>\n",
       "      <td>0.003</td>\n",
       "      <td>NaN</td>\n",
       "      <td>NaN</td>\n",
       "      <td>R</td>\n",
       "      <td>167</td>\n",
       "    </tr>\n",
       "    <tr>\n",
       "      <th>4</th>\n",
       "      <td>NGC2301_Center_6</td>\n",
       "      <td>NGC2301</td>\n",
       "      <td>102.9760</td>\n",
       "      <td>0.4326</td>\n",
       "      <td>2453047.76</td>\n",
       "      <td>2453058.94</td>\n",
       "      <td>11.914</td>\n",
       "      <td>0.002</td>\n",
       "      <td>NaN</td>\n",
       "      <td>NaN</td>\n",
       "      <td>11.668</td>\n",
       "      <td>0.005</td>\n",
       "      <td>NaN</td>\n",
       "      <td>NaN</td>\n",
       "      <td>R</td>\n",
       "      <td>167</td>\n",
       "    </tr>\n",
       "  </tbody>\n",
       "</table>\n",
       "</div>"
      ],
      "text/plain": [
       "            star_id   region        ra     dec    starthjd      endhjd  \\\n",
       "0  NGC2301_Center_2  NGC2301  103.0431  0.4158  2453047.76  2453058.94   \n",
       "1  NGC2301_Center_3  NGC2301  102.9154  0.4254  2453047.76  2453058.94   \n",
       "2  NGC2301_Center_4  NGC2301  102.9629  0.4276  2453047.76  2453058.94   \n",
       "3  NGC2301_Center_5  NGC2301  103.0485  0.4260  2453047.76  2453058.94   \n",
       "4  NGC2301_Center_6  NGC2301  102.9760  0.4326  2453047.76  2453058.94   \n",
       "\n",
       "     bmag   berr  vmag  verr    rmag   rerr  imag  ierr lcfil  npts  \n",
       "0  11.139  0.002   NaN   NaN  11.083  0.003   NaN   NaN     R   167  \n",
       "1  12.193  0.001   NaN   NaN  11.869  0.005   NaN   NaN     R   167  \n",
       "2  11.976  0.001   NaN   NaN  11.460  0.003   NaN   NaN     R   167  \n",
       "3  11.065  0.002   NaN   NaN  10.992  0.003   NaN   NaN     R   167  \n",
       "4  11.914  0.002   NaN   NaN  11.668  0.005   NaN   NaN     R   167  "
      ]
     },
     "execution_count": 10,
     "metadata": {},
     "output_type": "execute_result"
    }
   ],
   "source": [
    "df.head()"
   ]
  },
  {
   "cell_type": "code",
   "execution_count": 11,
   "metadata": {
    "execution": {
     "iopub.execute_input": "2025-05-05T17:46:03.348032Z",
     "iopub.status.busy": "2025-05-05T17:46:03.34776Z",
     "iopub.status.idle": "2025-05-05T17:46:03.354118Z",
     "shell.execute_reply": "2025-05-05T17:46:03.353151Z",
     "shell.execute_reply.started": "2025-05-05T17:46:03.348009Z"
    },
    "trusted": true
   },
   "outputs": [
    {
     "data": {
      "text/plain": [
       "(138935, 16)"
      ]
     },
     "execution_count": 11,
     "metadata": {},
     "output_type": "execute_result"
    }
   ],
   "source": [
    "df.shape"
   ]
  },
  {
   "cell_type": "code",
   "execution_count": 12,
   "metadata": {
    "execution": {
     "iopub.execute_input": "2025-05-05T17:46:03.355552Z",
     "iopub.status.busy": "2025-05-05T17:46:03.355234Z",
     "iopub.status.idle": "2025-05-05T17:46:03.419667Z",
     "shell.execute_reply": "2025-05-05T17:46:03.418636Z",
     "shell.execute_reply.started": "2025-05-05T17:46:03.35553Z"
    },
    "trusted": true
   },
   "outputs": [
    {
     "name": "stdout",
     "output_type": "stream",
     "text": [
      "<class 'pandas.core.frame.DataFrame'>\n",
      "RangeIndex: 138935 entries, 0 to 138934\n",
      "Data columns (total 16 columns):\n",
      " #   Column    Non-Null Count   Dtype  \n",
      "---  ------    --------------   -----  \n",
      " 0   star_id   138935 non-null  object \n",
      " 1   region    138935 non-null  object \n",
      " 2   ra        138935 non-null  float64\n",
      " 3   dec       138935 non-null  float64\n",
      " 4   starthjd  138935 non-null  float64\n",
      " 5   endhjd    138935 non-null  float64\n",
      " 6   bmag      3961 non-null    float64\n",
      " 7   berr      3961 non-null    float64\n",
      " 8   vmag      127364 non-null  float64\n",
      " 9   verr      127364 non-null  float64\n",
      " 10  rmag      3961 non-null    float64\n",
      " 11  rerr      3961 non-null    float64\n",
      " 12  imag      131440 non-null  float64\n",
      " 13  ierr      131440 non-null  float64\n",
      " 14  lcfil     138935 non-null  object \n",
      " 15  npts      138935 non-null  int64  \n",
      "dtypes: float64(12), int64(1), object(3)\n",
      "memory usage: 17.0+ MB\n"
     ]
    }
   ],
   "source": [
    "df.info()"
   ]
  },
  {
   "cell_type": "code",
   "execution_count": 13,
   "metadata": {
    "execution": {
     "iopub.execute_input": "2025-05-05T17:46:03.420682Z",
     "iopub.status.busy": "2025-05-05T17:46:03.420373Z",
     "iopub.status.idle": "2025-05-05T17:46:03.427997Z",
     "shell.execute_reply": "2025-05-05T17:46:03.427219Z",
     "shell.execute_reply.started": "2025-05-05T17:46:03.420656Z"
    },
    "trusted": true
   },
   "outputs": [],
   "source": [
    "numeric_columns = df.select_dtypes(include=[np.number]).columns.tolist()"
   ]
  },
  {
   "cell_type": "code",
   "execution_count": 14,
   "metadata": {
    "execution": {
     "iopub.execute_input": "2025-05-05T17:46:03.42918Z",
     "iopub.status.busy": "2025-05-05T17:46:03.428953Z",
     "iopub.status.idle": "2025-05-05T17:46:03.564432Z",
     "shell.execute_reply": "2025-05-05T17:46:03.563176Z",
     "shell.execute_reply.started": "2025-05-05T17:46:03.429163Z"
    },
    "trusted": true
   },
   "outputs": [
    {
     "data": {
      "text/html": [
       "<div>\n",
       "<style scoped>\n",
       "    .dataframe tbody tr th:only-of-type {\n",
       "        vertical-align: middle;\n",
       "    }\n",
       "\n",
       "    .dataframe tbody tr th {\n",
       "        vertical-align: top;\n",
       "    }\n",
       "\n",
       "    .dataframe thead th {\n",
       "        text-align: right;\n",
       "    }\n",
       "</style>\n",
       "<table border=\"1\" class=\"dataframe\">\n",
       "  <thead>\n",
       "    <tr style=\"text-align: right;\">\n",
       "      <th></th>\n",
       "      <th>ra</th>\n",
       "      <th>dec</th>\n",
       "      <th>starthjd</th>\n",
       "      <th>endhjd</th>\n",
       "      <th>bmag</th>\n",
       "      <th>berr</th>\n",
       "      <th>vmag</th>\n",
       "      <th>verr</th>\n",
       "      <th>rmag</th>\n",
       "      <th>rerr</th>\n",
       "      <th>imag</th>\n",
       "      <th>ierr</th>\n",
       "      <th>npts</th>\n",
       "    </tr>\n",
       "  </thead>\n",
       "  <tbody>\n",
       "    <tr>\n",
       "      <th>count</th>\n",
       "      <td>138935.000000</td>\n",
       "      <td>138935.000000</td>\n",
       "      <td>1.389350e+05</td>\n",
       "      <td>1.389350e+05</td>\n",
       "      <td>3961.000000</td>\n",
       "      <td>3961.000000</td>\n",
       "      <td>127364.000000</td>\n",
       "      <td>127364.000000</td>\n",
       "      <td>3961.000000</td>\n",
       "      <td>3961.000000</td>\n",
       "      <td>131440.000000</td>\n",
       "      <td>131440.000000</td>\n",
       "      <td>138935.00000</td>\n",
       "    </tr>\n",
       "    <tr>\n",
       "      <th>mean</th>\n",
       "      <td>207.216280</td>\n",
       "      <td>-21.339073</td>\n",
       "      <td>2.450392e+06</td>\n",
       "      <td>2.451170e+06</td>\n",
       "      <td>19.193779</td>\n",
       "      <td>0.008489</td>\n",
       "      <td>20.670804</td>\n",
       "      <td>0.091144</td>\n",
       "      <td>17.331396</td>\n",
       "      <td>0.003215</td>\n",
       "      <td>19.454649</td>\n",
       "      <td>0.068939</td>\n",
       "      <td>88.21410</td>\n",
       "    </tr>\n",
       "    <tr>\n",
       "      <th>std</th>\n",
       "      <td>51.492794</td>\n",
       "      <td>21.465881</td>\n",
       "      <td>5.047825e+02</td>\n",
       "      <td>3.699247e+02</td>\n",
       "      <td>2.131007</td>\n",
       "      <td>0.006817</td>\n",
       "      <td>1.523555</td>\n",
       "      <td>0.097095</td>\n",
       "      <td>1.759611</td>\n",
       "      <td>0.002474</td>\n",
       "      <td>1.315436</td>\n",
       "      <td>0.062515</td>\n",
       "      <td>40.16088</td>\n",
       "    </tr>\n",
       "    <tr>\n",
       "      <th>min</th>\n",
       "      <td>102.750100</td>\n",
       "      <td>-46.611600</td>\n",
       "      <td>2.449898e+06</td>\n",
       "      <td>2.449903e+06</td>\n",
       "      <td>10.010000</td>\n",
       "      <td>0.001000</td>\n",
       "      <td>15.505000</td>\n",
       "      <td>0.010000</td>\n",
       "      <td>9.844000</td>\n",
       "      <td>0.001000</td>\n",
       "      <td>14.155000</td>\n",
       "      <td>0.010000</td>\n",
       "      <td>8.00000</td>\n",
       "    </tr>\n",
       "    <tr>\n",
       "      <th>25%</th>\n",
       "      <td>154.404500</td>\n",
       "      <td>-46.395000</td>\n",
       "      <td>2.450200e+06</td>\n",
       "      <td>2.450941e+06</td>\n",
       "      <td>18.198000</td>\n",
       "      <td>0.005000</td>\n",
       "      <td>19.596000</td>\n",
       "      <td>0.023000</td>\n",
       "      <td>16.503000</td>\n",
       "      <td>0.002000</td>\n",
       "      <td>18.595000</td>\n",
       "      <td>0.023000</td>\n",
       "      <td>51.00000</td>\n",
       "    </tr>\n",
       "    <tr>\n",
       "      <th>50%</th>\n",
       "      <td>251.736100</td>\n",
       "      <td>-4.165700</td>\n",
       "      <td>2.450245e+06</td>\n",
       "      <td>2.451053e+06</td>\n",
       "      <td>19.729000</td>\n",
       "      <td>0.007000</td>\n",
       "      <td>20.792000</td>\n",
       "      <td>0.053000</td>\n",
       "      <td>17.788000</td>\n",
       "      <td>0.003000</td>\n",
       "      <td>19.602000</td>\n",
       "      <td>0.047000</td>\n",
       "      <td>92.00000</td>\n",
       "    </tr>\n",
       "    <tr>\n",
       "      <th>75%</th>\n",
       "      <td>254.211500</td>\n",
       "      <td>-2.097200</td>\n",
       "      <td>2.450567e+06</td>\n",
       "      <td>2.451319e+06</td>\n",
       "      <td>20.781000</td>\n",
       "      <td>0.010000</td>\n",
       "      <td>21.915000</td>\n",
       "      <td>0.131000</td>\n",
       "      <td>18.655000</td>\n",
       "      <td>0.004000</td>\n",
       "      <td>20.481000</td>\n",
       "      <td>0.096000</td>\n",
       "      <td>126.00000</td>\n",
       "    </tr>\n",
       "    <tr>\n",
       "      <th>max</th>\n",
       "      <td>254.486800</td>\n",
       "      <td>0.690800</td>\n",
       "      <td>2.453048e+06</td>\n",
       "      <td>2.453059e+06</td>\n",
       "      <td>22.449000</td>\n",
       "      <td>0.105000</td>\n",
       "      <td>25.097000</td>\n",
       "      <td>2.862000</td>\n",
       "      <td>19.478000</td>\n",
       "      <td>0.065000</td>\n",
       "      <td>23.077000</td>\n",
       "      <td>1.223000</td>\n",
       "      <td>175.00000</td>\n",
       "    </tr>\n",
       "  </tbody>\n",
       "</table>\n",
       "</div>"
      ],
      "text/plain": [
       "                  ra            dec      starthjd        endhjd         bmag  \\\n",
       "count  138935.000000  138935.000000  1.389350e+05  1.389350e+05  3961.000000   \n",
       "mean      207.216280     -21.339073  2.450392e+06  2.451170e+06    19.193779   \n",
       "std        51.492794      21.465881  5.047825e+02  3.699247e+02     2.131007   \n",
       "min       102.750100     -46.611600  2.449898e+06  2.449903e+06    10.010000   \n",
       "25%       154.404500     -46.395000  2.450200e+06  2.450941e+06    18.198000   \n",
       "50%       251.736100      -4.165700  2.450245e+06  2.451053e+06    19.729000   \n",
       "75%       254.211500      -2.097200  2.450567e+06  2.451319e+06    20.781000   \n",
       "max       254.486800       0.690800  2.453048e+06  2.453059e+06    22.449000   \n",
       "\n",
       "              berr           vmag           verr         rmag         rerr  \\\n",
       "count  3961.000000  127364.000000  127364.000000  3961.000000  3961.000000   \n",
       "mean      0.008489      20.670804       0.091144    17.331396     0.003215   \n",
       "std       0.006817       1.523555       0.097095     1.759611     0.002474   \n",
       "min       0.001000      15.505000       0.010000     9.844000     0.001000   \n",
       "25%       0.005000      19.596000       0.023000    16.503000     0.002000   \n",
       "50%       0.007000      20.792000       0.053000    17.788000     0.003000   \n",
       "75%       0.010000      21.915000       0.131000    18.655000     0.004000   \n",
       "max       0.105000      25.097000       2.862000    19.478000     0.065000   \n",
       "\n",
       "                imag           ierr          npts  \n",
       "count  131440.000000  131440.000000  138935.00000  \n",
       "mean       19.454649       0.068939      88.21410  \n",
       "std         1.315436       0.062515      40.16088  \n",
       "min        14.155000       0.010000       8.00000  \n",
       "25%        18.595000       0.023000      51.00000  \n",
       "50%        19.602000       0.047000      92.00000  \n",
       "75%        20.481000       0.096000     126.00000  \n",
       "max        23.077000       1.223000     175.00000  "
      ]
     },
     "execution_count": 14,
     "metadata": {},
     "output_type": "execute_result"
    }
   ],
   "source": [
    "df[numeric_columns].describe()"
   ]
  },
  {
   "cell_type": "code",
   "execution_count": 15,
   "metadata": {
    "execution": {
     "iopub.execute_input": "2025-05-05T17:46:03.565742Z",
     "iopub.status.busy": "2025-05-05T17:46:03.565398Z",
     "iopub.status.idle": "2025-05-05T17:46:03.571521Z",
     "shell.execute_reply": "2025-05-05T17:46:03.570609Z",
     "shell.execute_reply.started": "2025-05-05T17:46:03.565707Z"
    },
    "trusted": true
   },
   "outputs": [
    {
     "data": {
      "text/plain": [
       "13"
      ]
     },
     "execution_count": 15,
     "metadata": {},
     "output_type": "execute_result"
    }
   ],
   "source": [
    "len(numeric_columns)"
   ]
  },
  {
   "cell_type": "code",
   "execution_count": 16,
   "metadata": {
    "execution": {
     "iopub.execute_input": "2025-05-05T17:46:03.574814Z",
     "iopub.status.busy": "2025-05-05T17:46:03.574499Z",
     "iopub.status.idle": "2025-05-05T17:46:03.602637Z",
     "shell.execute_reply": "2025-05-05T17:46:03.601414Z",
     "shell.execute_reply.started": "2025-05-05T17:46:03.574784Z"
    },
    "trusted": true
   },
   "outputs": [
    {
     "data": {
      "text/plain": [
       "ra               0\n",
       "dec              0\n",
       "starthjd         0\n",
       "endhjd           0\n",
       "bmag        134974\n",
       "berr        134974\n",
       "vmag         11571\n",
       "verr         11571\n",
       "rmag        134974\n",
       "rerr        134974\n",
       "imag          7495\n",
       "ierr          7495\n",
       "npts             0\n",
       "dtype: int64"
      ]
     },
     "execution_count": 16,
     "metadata": {},
     "output_type": "execute_result"
    }
   ],
   "source": [
    "df[numeric_columns].isnull().sum()"
   ]
  },
  {
   "cell_type": "markdown",
   "metadata": {},
   "source": [
    "columns_to_remove\n"
   ]
  },
  {
   "cell_type": "code",
   "execution_count": 17,
   "metadata": {
    "execution": {
     "iopub.execute_input": "2025-05-05T17:46:03.604249Z",
     "iopub.status.busy": "2025-05-05T17:46:03.603881Z",
     "iopub.status.idle": "2025-05-05T17:46:03.624893Z",
     "shell.execute_reply": "2025-05-05T17:46:03.623774Z",
     "shell.execute_reply.started": "2025-05-05T17:46:03.604221Z"
    },
    "trusted": true
   },
   "outputs": [
    {
     "data": {
      "text/plain": [
       "ra               0\n",
       "dec              0\n",
       "starthjd         0\n",
       "endhjd           0\n",
       "bmag        134974\n",
       "berr        134974\n",
       "vmag         11571\n",
       "verr         11571\n",
       "rmag        134974\n",
       "rerr        134974\n",
       "imag          7495\n",
       "ierr          7495\n",
       "npts             0\n",
       "dtype: int64"
      ]
     },
     "execution_count": 17,
     "metadata": {},
     "output_type": "execute_result"
    }
   ],
   "source": [
    "columns_to_remove = ['bmag','berr','rmag','rerr']\n",
    "df[numeric_columns].isnull().sum()"
   ]
  },
  {
   "cell_type": "code",
   "execution_count": 18,
   "metadata": {
    "execution": {
     "iopub.execute_input": "2025-05-05T17:46:03.626422Z",
     "iopub.status.busy": "2025-05-05T17:46:03.62606Z",
     "iopub.status.idle": "2025-05-05T17:46:03.640914Z",
     "shell.execute_reply": "2025-05-05T17:46:03.64016Z",
     "shell.execute_reply.started": "2025-05-05T17:46:03.626398Z"
    },
    "trusted": true
   },
   "outputs": [],
   "source": [
    "df_numeric = df[numeric_columns].drop(columns=columns_to_remove)"
   ]
  },
  {
   "cell_type": "code",
   "execution_count": 19,
   "metadata": {
    "execution": {
     "iopub.execute_input": "2025-05-05T17:46:03.642381Z",
     "iopub.status.busy": "2025-05-05T17:46:03.641937Z",
     "iopub.status.idle": "2025-05-05T17:46:03.658808Z",
     "shell.execute_reply": "2025-05-05T17:46:03.657538Z",
     "shell.execute_reply.started": "2025-05-05T17:46:03.642358Z"
    },
    "trusted": true
   },
   "outputs": [
    {
     "name": "stderr",
     "output_type": "stream",
     "text": [
      "/usr/local/lib/python3.11/dist-packages/pandas/io/formats/format.py:1458: RuntimeWarning: invalid value encountered in greater\n",
      "  has_large_values = (abs_vals > 1e6).any()\n",
      "/usr/local/lib/python3.11/dist-packages/pandas/io/formats/format.py:1459: RuntimeWarning: invalid value encountered in less\n",
      "  has_small_values = ((abs_vals < 10 ** (-self.digits)) & (abs_vals > 0)).any()\n",
      "/usr/local/lib/python3.11/dist-packages/pandas/io/formats/format.py:1459: RuntimeWarning: invalid value encountered in greater\n",
      "  has_small_values = ((abs_vals < 10 ** (-self.digits)) & (abs_vals > 0)).any()\n"
     ]
    },
    {
     "data": {
      "text/html": [
       "<div>\n",
       "<style scoped>\n",
       "    .dataframe tbody tr th:only-of-type {\n",
       "        vertical-align: middle;\n",
       "    }\n",
       "\n",
       "    .dataframe tbody tr th {\n",
       "        vertical-align: top;\n",
       "    }\n",
       "\n",
       "    .dataframe thead th {\n",
       "        text-align: right;\n",
       "    }\n",
       "</style>\n",
       "<table border=\"1\" class=\"dataframe\">\n",
       "  <thead>\n",
       "    <tr style=\"text-align: right;\">\n",
       "      <th></th>\n",
       "      <th>ra</th>\n",
       "      <th>dec</th>\n",
       "      <th>starthjd</th>\n",
       "      <th>endhjd</th>\n",
       "      <th>vmag</th>\n",
       "      <th>verr</th>\n",
       "      <th>imag</th>\n",
       "      <th>ierr</th>\n",
       "      <th>npts</th>\n",
       "    </tr>\n",
       "  </thead>\n",
       "  <tbody>\n",
       "    <tr>\n",
       "      <th>0</th>\n",
       "      <td>103.0431</td>\n",
       "      <td>0.4158</td>\n",
       "      <td>2453047.76</td>\n",
       "      <td>2453058.94</td>\n",
       "      <td>NaN</td>\n",
       "      <td>NaN</td>\n",
       "      <td>NaN</td>\n",
       "      <td>NaN</td>\n",
       "      <td>167</td>\n",
       "    </tr>\n",
       "    <tr>\n",
       "      <th>1</th>\n",
       "      <td>102.9154</td>\n",
       "      <td>0.4254</td>\n",
       "      <td>2453047.76</td>\n",
       "      <td>2453058.94</td>\n",
       "      <td>NaN</td>\n",
       "      <td>NaN</td>\n",
       "      <td>NaN</td>\n",
       "      <td>NaN</td>\n",
       "      <td>167</td>\n",
       "    </tr>\n",
       "    <tr>\n",
       "      <th>2</th>\n",
       "      <td>102.9629</td>\n",
       "      <td>0.4276</td>\n",
       "      <td>2453047.76</td>\n",
       "      <td>2453058.94</td>\n",
       "      <td>NaN</td>\n",
       "      <td>NaN</td>\n",
       "      <td>NaN</td>\n",
       "      <td>NaN</td>\n",
       "      <td>167</td>\n",
       "    </tr>\n",
       "    <tr>\n",
       "      <th>3</th>\n",
       "      <td>103.0485</td>\n",
       "      <td>0.4260</td>\n",
       "      <td>2453047.76</td>\n",
       "      <td>2453058.94</td>\n",
       "      <td>NaN</td>\n",
       "      <td>NaN</td>\n",
       "      <td>NaN</td>\n",
       "      <td>NaN</td>\n",
       "      <td>167</td>\n",
       "    </tr>\n",
       "    <tr>\n",
       "      <th>4</th>\n",
       "      <td>102.9760</td>\n",
       "      <td>0.4326</td>\n",
       "      <td>2453047.76</td>\n",
       "      <td>2453058.94</td>\n",
       "      <td>NaN</td>\n",
       "      <td>NaN</td>\n",
       "      <td>NaN</td>\n",
       "      <td>NaN</td>\n",
       "      <td>167</td>\n",
       "    </tr>\n",
       "  </tbody>\n",
       "</table>\n",
       "</div>"
      ],
      "text/plain": [
       "         ra     dec    starthjd      endhjd  vmag  verr  imag  ierr  npts\n",
       "0  103.0431  0.4158  2453047.76  2453058.94   NaN   NaN   NaN   NaN   167\n",
       "1  102.9154  0.4254  2453047.76  2453058.94   NaN   NaN   NaN   NaN   167\n",
       "2  102.9629  0.4276  2453047.76  2453058.94   NaN   NaN   NaN   NaN   167\n",
       "3  103.0485  0.4260  2453047.76  2453058.94   NaN   NaN   NaN   NaN   167\n",
       "4  102.9760  0.4326  2453047.76  2453058.94   NaN   NaN   NaN   NaN   167"
      ]
     },
     "execution_count": 19,
     "metadata": {},
     "output_type": "execute_result"
    }
   ],
   "source": [
    "df_numeric.head()"
   ]
  },
  {
   "cell_type": "code",
   "execution_count": 20,
   "metadata": {
    "execution": {
     "iopub.execute_input": "2025-05-05T17:46:03.659993Z",
     "iopub.status.busy": "2025-05-05T17:46:03.659705Z",
     "iopub.status.idle": "2025-05-05T17:46:03.68424Z",
     "shell.execute_reply": "2025-05-05T17:46:03.683233Z",
     "shell.execute_reply.started": "2025-05-05T17:46:03.659965Z"
    },
    "trusted": true
   },
   "outputs": [
    {
     "data": {
      "text/plain": [
       "ra              0\n",
       "dec             0\n",
       "starthjd        0\n",
       "endhjd          0\n",
       "vmag        11571\n",
       "verr        11571\n",
       "imag         7495\n",
       "ierr         7495\n",
       "npts            0\n",
       "dtype: int64"
      ]
     },
     "execution_count": 20,
     "metadata": {},
     "output_type": "execute_result"
    }
   ],
   "source": [
    "df_numeric.isnull().sum()"
   ]
  },
  {
   "cell_type": "code",
   "execution_count": 21,
   "metadata": {
    "execution": {
     "iopub.execute_input": "2025-05-05T17:46:03.685602Z",
     "iopub.status.busy": "2025-05-05T17:46:03.685232Z",
     "iopub.status.idle": "2025-05-05T17:46:03.701358Z",
     "shell.execute_reply": "2025-05-05T17:46:03.700379Z",
     "shell.execute_reply.started": "2025-05-05T17:46:03.685579Z"
    },
    "trusted": true
   },
   "outputs": [],
   "source": [
    "df_numeric = df_numeric.dropna()"
   ]
  },
  {
   "cell_type": "code",
   "execution_count": 22,
   "metadata": {
    "execution": {
     "iopub.execute_input": "2025-05-05T17:46:03.702812Z",
     "iopub.status.busy": "2025-05-05T17:46:03.702548Z",
     "iopub.status.idle": "2025-05-05T17:46:03.709863Z",
     "shell.execute_reply": "2025-05-05T17:46:03.708869Z",
     "shell.execute_reply.started": "2025-05-05T17:46:03.702791Z"
    },
    "trusted": true
   },
   "outputs": [
    {
     "data": {
      "text/plain": [
       "(123830, 9)"
      ]
     },
     "execution_count": 22,
     "metadata": {},
     "output_type": "execute_result"
    }
   ],
   "source": [
    "df_numeric.shape"
   ]
  },
  {
   "cell_type": "code",
   "execution_count": 23,
   "metadata": {
    "execution": {
     "iopub.execute_input": "2025-05-05T17:46:03.711117Z",
     "iopub.status.busy": "2025-05-05T17:46:03.710834Z",
     "iopub.status.idle": "2025-05-05T17:46:03.741463Z",
     "shell.execute_reply": "2025-05-05T17:46:03.740278Z",
     "shell.execute_reply.started": "2025-05-05T17:46:03.71109Z"
    },
    "trusted": true
   },
   "outputs": [
    {
     "data": {
      "text/plain": [
       "ra          0\n",
       "dec         0\n",
       "starthjd    0\n",
       "endhjd      0\n",
       "vmag        0\n",
       "verr        0\n",
       "imag        0\n",
       "ierr        0\n",
       "npts        0\n",
       "dtype: int64"
      ]
     },
     "execution_count": 23,
     "metadata": {},
     "output_type": "execute_result"
    }
   ],
   "source": [
    "df_numeric.isna().sum()"
   ]
  },
  {
   "cell_type": "code",
   "execution_count": 24,
   "metadata": {
    "execution": {
     "iopub.execute_input": "2025-05-05T17:46:03.742809Z",
     "iopub.status.busy": "2025-05-05T17:46:03.742522Z",
     "iopub.status.idle": "2025-05-05T17:46:03.759581Z",
     "shell.execute_reply": "2025-05-05T17:46:03.758802Z",
     "shell.execute_reply.started": "2025-05-05T17:46:03.742789Z"
    },
    "trusted": true
   },
   "outputs": [
    {
     "data": {
      "text/html": [
       "<div>\n",
       "<style scoped>\n",
       "    .dataframe tbody tr th:only-of-type {\n",
       "        vertical-align: middle;\n",
       "    }\n",
       "\n",
       "    .dataframe tbody tr th {\n",
       "        vertical-align: top;\n",
       "    }\n",
       "\n",
       "    .dataframe thead th {\n",
       "        text-align: right;\n",
       "    }\n",
       "</style>\n",
       "<table border=\"1\" class=\"dataframe\">\n",
       "  <thead>\n",
       "    <tr style=\"text-align: right;\">\n",
       "      <th></th>\n",
       "      <th>ra</th>\n",
       "      <th>dec</th>\n",
       "      <th>starthjd</th>\n",
       "      <th>endhjd</th>\n",
       "      <th>vmag</th>\n",
       "      <th>verr</th>\n",
       "      <th>imag</th>\n",
       "      <th>ierr</th>\n",
       "      <th>npts</th>\n",
       "    </tr>\n",
       "  </thead>\n",
       "  <tbody>\n",
       "    <tr>\n",
       "      <th>3961</th>\n",
       "      <td>154.1162</td>\n",
       "      <td>-46.5045</td>\n",
       "      <td>2450246.45</td>\n",
       "      <td>2450939.64</td>\n",
       "      <td>18.251</td>\n",
       "      <td>0.014</td>\n",
       "      <td>17.462</td>\n",
       "      <td>0.017</td>\n",
       "      <td>105</td>\n",
       "    </tr>\n",
       "    <tr>\n",
       "      <th>3962</th>\n",
       "      <td>154.1171</td>\n",
       "      <td>-46.4989</td>\n",
       "      <td>2450246.45</td>\n",
       "      <td>2450940.53</td>\n",
       "      <td>20.216</td>\n",
       "      <td>0.033</td>\n",
       "      <td>18.386</td>\n",
       "      <td>0.022</td>\n",
       "      <td>113</td>\n",
       "    </tr>\n",
       "    <tr>\n",
       "      <th>3963</th>\n",
       "      <td>154.1172</td>\n",
       "      <td>-46.4909</td>\n",
       "      <td>2450246.45</td>\n",
       "      <td>2450940.53</td>\n",
       "      <td>20.623</td>\n",
       "      <td>0.038</td>\n",
       "      <td>19.206</td>\n",
       "      <td>0.032</td>\n",
       "      <td>110</td>\n",
       "    </tr>\n",
       "    <tr>\n",
       "      <th>3965</th>\n",
       "      <td>154.1176</td>\n",
       "      <td>-46.4801</td>\n",
       "      <td>2450246.45</td>\n",
       "      <td>2450940.53</td>\n",
       "      <td>19.365</td>\n",
       "      <td>0.018</td>\n",
       "      <td>18.226</td>\n",
       "      <td>0.022</td>\n",
       "      <td>109</td>\n",
       "    </tr>\n",
       "    <tr>\n",
       "      <th>3966</th>\n",
       "      <td>154.1179</td>\n",
       "      <td>-46.4671</td>\n",
       "      <td>2450246.45</td>\n",
       "      <td>2450939.57</td>\n",
       "      <td>19.535</td>\n",
       "      <td>0.018</td>\n",
       "      <td>18.653</td>\n",
       "      <td>0.025</td>\n",
       "      <td>108</td>\n",
       "    </tr>\n",
       "    <tr>\n",
       "      <th>...</th>\n",
       "      <td>...</td>\n",
       "      <td>...</td>\n",
       "      <td>...</td>\n",
       "      <td>...</td>\n",
       "      <td>...</td>\n",
       "      <td>...</td>\n",
       "      <td>...</td>\n",
       "      <td>...</td>\n",
       "      <td>...</td>\n",
       "    </tr>\n",
       "    <tr>\n",
       "      <th>138930</th>\n",
       "      <td>254.1711</td>\n",
       "      <td>-4.0903</td>\n",
       "      <td>2450566.77</td>\n",
       "      <td>2451318.86</td>\n",
       "      <td>18.904</td>\n",
       "      <td>0.016</td>\n",
       "      <td>18.022</td>\n",
       "      <td>0.014</td>\n",
       "      <td>49</td>\n",
       "    </tr>\n",
       "    <tr>\n",
       "      <th>138931</th>\n",
       "      <td>254.1712</td>\n",
       "      <td>-4.0854</td>\n",
       "      <td>2450931.78</td>\n",
       "      <td>2451052.53</td>\n",
       "      <td>16.355</td>\n",
       "      <td>0.010</td>\n",
       "      <td>15.232</td>\n",
       "      <td>0.010</td>\n",
       "      <td>14</td>\n",
       "    </tr>\n",
       "    <tr>\n",
       "      <th>138932</th>\n",
       "      <td>254.1712</td>\n",
       "      <td>-4.2396</td>\n",
       "      <td>2450566.77</td>\n",
       "      <td>2451318.86</td>\n",
       "      <td>18.751</td>\n",
       "      <td>0.016</td>\n",
       "      <td>17.712</td>\n",
       "      <td>0.017</td>\n",
       "      <td>45</td>\n",
       "    </tr>\n",
       "    <tr>\n",
       "      <th>138933</th>\n",
       "      <td>254.1712</td>\n",
       "      <td>-4.0354</td>\n",
       "      <td>2450566.77</td>\n",
       "      <td>2451318.86</td>\n",
       "      <td>20.865</td>\n",
       "      <td>0.054</td>\n",
       "      <td>19.714</td>\n",
       "      <td>0.044</td>\n",
       "      <td>51</td>\n",
       "    </tr>\n",
       "    <tr>\n",
       "      <th>138934</th>\n",
       "      <td>254.1713</td>\n",
       "      <td>-4.0800</td>\n",
       "      <td>2450566.77</td>\n",
       "      <td>2451318.86</td>\n",
       "      <td>22.514</td>\n",
       "      <td>0.198</td>\n",
       "      <td>20.948</td>\n",
       "      <td>0.124</td>\n",
       "      <td>51</td>\n",
       "    </tr>\n",
       "  </tbody>\n",
       "</table>\n",
       "<p>123830 rows × 9 columns</p>\n",
       "</div>"
      ],
      "text/plain": [
       "              ra      dec    starthjd      endhjd    vmag   verr    imag  \\\n",
       "3961    154.1162 -46.5045  2450246.45  2450939.64  18.251  0.014  17.462   \n",
       "3962    154.1171 -46.4989  2450246.45  2450940.53  20.216  0.033  18.386   \n",
       "3963    154.1172 -46.4909  2450246.45  2450940.53  20.623  0.038  19.206   \n",
       "3965    154.1176 -46.4801  2450246.45  2450940.53  19.365  0.018  18.226   \n",
       "3966    154.1179 -46.4671  2450246.45  2450939.57  19.535  0.018  18.653   \n",
       "...          ...      ...         ...         ...     ...    ...     ...   \n",
       "138930  254.1711  -4.0903  2450566.77  2451318.86  18.904  0.016  18.022   \n",
       "138931  254.1712  -4.0854  2450931.78  2451052.53  16.355  0.010  15.232   \n",
       "138932  254.1712  -4.2396  2450566.77  2451318.86  18.751  0.016  17.712   \n",
       "138933  254.1712  -4.0354  2450566.77  2451318.86  20.865  0.054  19.714   \n",
       "138934  254.1713  -4.0800  2450566.77  2451318.86  22.514  0.198  20.948   \n",
       "\n",
       "         ierr  npts  \n",
       "3961    0.017   105  \n",
       "3962    0.022   113  \n",
       "3963    0.032   110  \n",
       "3965    0.022   109  \n",
       "3966    0.025   108  \n",
       "...       ...   ...  \n",
       "138930  0.014    49  \n",
       "138931  0.010    14  \n",
       "138932  0.017    45  \n",
       "138933  0.044    51  \n",
       "138934  0.124    51  \n",
       "\n",
       "[123830 rows x 9 columns]"
      ]
     },
     "execution_count": 24,
     "metadata": {},
     "output_type": "execute_result"
    }
   ],
   "source": [
    "df_numeric"
   ]
  },
  {
   "cell_type": "code",
   "execution_count": null,
   "metadata": {
    "trusted": true
   },
   "outputs": [],
   "source": []
  }
 ],
 "metadata": {
  "kaggle": {
   "accelerator": "none",
   "dataSources": [
    {
     "datasetId": 7336774,
     "sourceId": 11689311,
     "sourceType": "datasetVersion"
    }
   ],
   "dockerImageVersionId": 31012,
   "isGpuEnabled": false,
   "isInternetEnabled": true,
   "language": "python",
   "sourceType": "notebook"
  },
  "kernelspec": {
   "display_name": "Python 3",
   "language": "python",
   "name": "python3"
  },
  "language_info": {
   "codemirror_mode": {
    "name": "ipython",
    "version": 3
   },
   "file_extension": ".py",
   "mimetype": "text/x-python",
   "name": "python",
   "nbconvert_exporter": "python",
   "pygments_lexer": "ipython3",
   "version": "3.10.12"
  }
 },
 "nbformat": 4,
 "nbformat_minor": 4
}
