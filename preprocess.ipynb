{
 "cells": [
  {
   "cell_type": "code",
   "execution_count": 6,
   "metadata": {},
   "outputs": [],
   "source": [
    "import pandas as pd\n",
    "import numpy as np\n"
   ]
  },
  {
   "cell_type": "code",
   "execution_count": 7,
   "metadata": {},
   "outputs": [],
   "source": [
    "df = pd.read_csv('nasa_neo_browse_dataset.csv')"
   ]
  },
  {
   "cell_type": "code",
   "execution_count": 8,
   "metadata": {},
   "outputs": [
    {
     "data": {
      "text/plain": [
       "(20, 44)"
      ]
     },
     "execution_count": 8,
     "metadata": {},
     "output_type": "execute_result"
    }
   ],
   "source": [
    "df.shape"
   ]
  },
  {
   "cell_type": "code",
   "execution_count": 9,
   "metadata": {},
   "outputs": [
    {
     "data": {
      "text/plain": [
       "Index(['id', 'neo_reference_id', 'name', 'name_limited', 'designation',\n",
       "       'nasa_jpl_url', 'absolute_magnitude_h',\n",
       "       'is_potentially_hazardous_asteroid', 'close_approach_data',\n",
       "       'is_sentry_object', 'links.self',\n",
       "       'estimated_diameter.kilometers.estimated_diameter_min',\n",
       "       'estimated_diameter.kilometers.estimated_diameter_max',\n",
       "       'estimated_diameter.meters.estimated_diameter_min',\n",
       "       'estimated_diameter.meters.estimated_diameter_max',\n",
       "       'estimated_diameter.miles.estimated_diameter_min',\n",
       "       'estimated_diameter.miles.estimated_diameter_max',\n",
       "       'estimated_diameter.feet.estimated_diameter_min',\n",
       "       'estimated_diameter.feet.estimated_diameter_max',\n",
       "       'orbital_data.orbit_id', 'orbital_data.orbit_determination_date',\n",
       "       'orbital_data.first_observation_date',\n",
       "       'orbital_data.last_observation_date', 'orbital_data.data_arc_in_days',\n",
       "       'orbital_data.observations_used', 'orbital_data.orbit_uncertainty',\n",
       "       'orbital_data.minimum_orbit_intersection',\n",
       "       'orbital_data.jupiter_tisserand_invariant',\n",
       "       'orbital_data.epoch_osculation', 'orbital_data.eccentricity',\n",
       "       'orbital_data.semi_major_axis', 'orbital_data.inclination',\n",
       "       'orbital_data.ascending_node_longitude', 'orbital_data.orbital_period',\n",
       "       'orbital_data.perihelion_distance', 'orbital_data.perihelion_argument',\n",
       "       'orbital_data.aphelion_distance', 'orbital_data.perihelion_time',\n",
       "       'orbital_data.mean_anomaly', 'orbital_data.mean_motion',\n",
       "       'orbital_data.equinox', 'orbital_data.orbit_class.orbit_class_type',\n",
       "       'orbital_data.orbit_class.orbit_class_description',\n",
       "       'orbital_data.orbit_class.orbit_class_range'],\n",
       "      dtype='object')"
      ]
     },
     "execution_count": 9,
     "metadata": {},
     "output_type": "execute_result"
    }
   ],
   "source": [
    "df.columns"
   ]
  }
 ],
 "metadata": {
  "kernelspec": {
   "display_name": ".venv",
   "language": "python",
   "name": "python3"
  },
  "language_info": {
   "codemirror_mode": {
    "name": "ipython",
    "version": 3
   },
   "file_extension": ".py",
   "mimetype": "text/x-python",
   "name": "python",
   "nbconvert_exporter": "python",
   "pygments_lexer": "ipython3",
   "version": "3.10.12"
  }
 },
 "nbformat": 4,
 "nbformat_minor": 2
}
