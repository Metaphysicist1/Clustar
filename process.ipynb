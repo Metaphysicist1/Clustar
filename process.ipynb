{
 "cells": [
  {
   "cell_type": "code",
   "execution_count": 20,
   "metadata": {},
   "outputs": [],
   "source": [
    "import pandas as pd\n",
    "import numpy as np\n",
    "import matplotlib.pyplot as plt\n",
    "import seaborn as sns\n",
    "\n",
    "from sklearn.cluster import KMeans, MiniBatchKMeans\n",
    "from sklearn.decomposition import PCA\n",
    "from sklearn.preprocessing import StandardScaler\n",
    "from sklearn.metrics import silhouette_score\n"
   ]
  },
  {
   "cell_type": "code",
   "execution_count": 2,
   "metadata": {},
   "outputs": [],
   "source": [
    "FOLDER_PATH = 'data'\n",
    "FILE_NAME = \"clean_numeric_dataset.csv\"\n",
    "FULL_PATH = FOLDER_PATH + '/' + FILE_NAME"
   ]
  },
  {
   "cell_type": "code",
   "execution_count": 3,
   "metadata": {},
   "outputs": [],
   "source": [
    "df = pd.read_csv(FULL_PATH)"
   ]
  },
  {
   "cell_type": "code",
   "execution_count": 4,
   "metadata": {},
   "outputs": [
    {
     "data": {
      "text/html": [
       "<div>\n",
       "<style scoped>\n",
       "    .dataframe tbody tr th:only-of-type {\n",
       "        vertical-align: middle;\n",
       "    }\n",
       "\n",
       "    .dataframe tbody tr th {\n",
       "        vertical-align: top;\n",
       "    }\n",
       "\n",
       "    .dataframe thead th {\n",
       "        text-align: right;\n",
       "    }\n",
       "</style>\n",
       "<table border=\"1\" class=\"dataframe\">\n",
       "  <thead>\n",
       "    <tr style=\"text-align: right;\">\n",
       "      <th></th>\n",
       "      <th>ra</th>\n",
       "      <th>dec</th>\n",
       "      <th>starthjd</th>\n",
       "      <th>endhjd</th>\n",
       "      <th>vmag</th>\n",
       "      <th>verr</th>\n",
       "      <th>imag</th>\n",
       "      <th>ierr</th>\n",
       "      <th>npts</th>\n",
       "    </tr>\n",
       "  </thead>\n",
       "  <tbody>\n",
       "    <tr>\n",
       "      <th>0</th>\n",
       "      <td>154.1162</td>\n",
       "      <td>-46.5045</td>\n",
       "      <td>2450246.45</td>\n",
       "      <td>2450939.64</td>\n",
       "      <td>18.251</td>\n",
       "      <td>0.014</td>\n",
       "      <td>17.462</td>\n",
       "      <td>0.017</td>\n",
       "      <td>105</td>\n",
       "    </tr>\n",
       "    <tr>\n",
       "      <th>1</th>\n",
       "      <td>154.1171</td>\n",
       "      <td>-46.4989</td>\n",
       "      <td>2450246.45</td>\n",
       "      <td>2450940.53</td>\n",
       "      <td>20.216</td>\n",
       "      <td>0.033</td>\n",
       "      <td>18.386</td>\n",
       "      <td>0.022</td>\n",
       "      <td>113</td>\n",
       "    </tr>\n",
       "    <tr>\n",
       "      <th>2</th>\n",
       "      <td>154.1172</td>\n",
       "      <td>-46.4909</td>\n",
       "      <td>2450246.45</td>\n",
       "      <td>2450940.53</td>\n",
       "      <td>20.623</td>\n",
       "      <td>0.038</td>\n",
       "      <td>19.206</td>\n",
       "      <td>0.032</td>\n",
       "      <td>110</td>\n",
       "    </tr>\n",
       "    <tr>\n",
       "      <th>3</th>\n",
       "      <td>154.1176</td>\n",
       "      <td>-46.4801</td>\n",
       "      <td>2450246.45</td>\n",
       "      <td>2450940.53</td>\n",
       "      <td>19.365</td>\n",
       "      <td>0.018</td>\n",
       "      <td>18.226</td>\n",
       "      <td>0.022</td>\n",
       "      <td>109</td>\n",
       "    </tr>\n",
       "    <tr>\n",
       "      <th>4</th>\n",
       "      <td>154.1179</td>\n",
       "      <td>-46.4671</td>\n",
       "      <td>2450246.45</td>\n",
       "      <td>2450939.57</td>\n",
       "      <td>19.535</td>\n",
       "      <td>0.018</td>\n",
       "      <td>18.653</td>\n",
       "      <td>0.025</td>\n",
       "      <td>108</td>\n",
       "    </tr>\n",
       "  </tbody>\n",
       "</table>\n",
       "</div>"
      ],
      "text/plain": [
       "         ra      dec    starthjd      endhjd    vmag   verr    imag   ierr  \\\n",
       "0  154.1162 -46.5045  2450246.45  2450939.64  18.251  0.014  17.462  0.017   \n",
       "1  154.1171 -46.4989  2450246.45  2450940.53  20.216  0.033  18.386  0.022   \n",
       "2  154.1172 -46.4909  2450246.45  2450940.53  20.623  0.038  19.206  0.032   \n",
       "3  154.1176 -46.4801  2450246.45  2450940.53  19.365  0.018  18.226  0.022   \n",
       "4  154.1179 -46.4671  2450246.45  2450939.57  19.535  0.018  18.653  0.025   \n",
       "\n",
       "   npts  \n",
       "0   105  \n",
       "1   113  \n",
       "2   110  \n",
       "3   109  \n",
       "4   108  "
      ]
     },
     "execution_count": 4,
     "metadata": {},
     "output_type": "execute_result"
    }
   ],
   "source": [
    "df.head()"
   ]
  },
  {
   "cell_type": "code",
   "execution_count": 7,
   "metadata": {},
   "outputs": [
    {
     "name": "stdout",
     "output_type": "stream",
     "text": [
      "<class 'pandas.core.frame.DataFrame'>\n",
      "RangeIndex: 123830 entries, 0 to 123829\n",
      "Data columns (total 9 columns):\n",
      " #   Column    Non-Null Count   Dtype  \n",
      "---  ------    --------------   -----  \n",
      " 0   ra        123830 non-null  float64\n",
      " 1   dec       123830 non-null  float64\n",
      " 2   starthjd  123830 non-null  float64\n",
      " 3   endhjd    123830 non-null  float64\n",
      " 4   vmag      123830 non-null  float64\n",
      " 5   verr      123830 non-null  float64\n",
      " 6   imag      123830 non-null  float64\n",
      " 7   ierr      123830 non-null  float64\n",
      " 8   npts      123830 non-null  int64  \n",
      "dtypes: float64(8), int64(1)\n",
      "memory usage: 8.5 MB\n"
     ]
    },
    {
     "data": {
      "text/plain": [
       "(123830, 9)"
      ]
     },
     "execution_count": 7,
     "metadata": {},
     "output_type": "execute_result"
    }
   ],
   "source": [
    "df.shape\n",
    "df.info()\n",
    "df.describe()\n",
    "df.shape"
   ]
  },
  {
   "cell_type": "code",
   "execution_count": 8,
   "metadata": {},
   "outputs": [],
   "source": [
    "features = ['ra', 'dec', 'starthjd', 'endhjd', 'vmag', 'verr', 'imag', 'ierr', 'npts']\n",
    "X = df[features]\n",
    "\n",
    "# Scale the features\n",
    "scaler = StandardScaler()\n",
    "X_scaled = scaler.fit_transform(X)"
   ]
  },
  {
   "cell_type": "code",
   "execution_count": 18,
   "metadata": {},
   "outputs": [],
   "source": [
    "def find_optimal_clusters(X_scaled, max_clusters=5, batch_size=1000):\n",
    "    \"\"\"Find the optimal number of clusters using the elbow method and silhouette score.\"\"\"\n",
    "    # Calculate inertia (within-cluster sum of squares) for different k values\n",
    "    inertias = []\n",
    "    silhouette_scores = []\n",
    "    K = range(1, max_clusters + 1)\n",
    "    \n",
    "    print(\"\\nCalculating cluster metrics...\")\n",
    "    print(\"Using MiniBatchKMeans for faster computation...\")\n",
    "    \n",
    "    # First calculate inertias for all k values using MiniBatchKMeans\n",
    "    for k in K:\n",
    "        print(f\"Processing k={k} (inertia calculation)...\")\n",
    "        kmeans = MiniBatchKMeans(n_clusters=k, \n",
    "                                batch_size=batch_size,\n",
    "                                random_state=42,\n",
    "                                n_init=3)  # Reduced n_init for speed\n",
    "        kmeans.fit(X_scaled)\n",
    "        inertias.append(kmeans.inertia_)\n",
    "    \n",
    "    # Then calculate silhouette scores (only for k > 1)\n",
    "    print(\"\\nCalculating silhouette scores...\")\n",
    "    # Use a subset of data for silhouette score calculation\n",
    "    sample_size = min(10000, len(X_scaled))\n",
    "    X_sample = X_scaled[np.random.choice(len(X_scaled), sample_size, replace=False)]\n",
    "    \n",
    "    for k in range(2, max_clusters + 1):\n",
    "        print(f\"Processing k={k} (silhouette calculation)...\")\n",
    "        kmeans = MiniBatchKMeans(n_clusters=k, \n",
    "                                batch_size=batch_size,\n",
    "                                random_state=42,\n",
    "                                n_init=3)\n",
    "        labels = kmeans.fit_predict(X_sample)\n",
    "        score = silhouette_score(X_sample, labels)\n",
    "        silhouette_scores.append(score)\n",
    "    \n",
    "    # Plot elbow curve and silhouette scores\n",
    "    print(\"\\nGenerating plots...\")\n",
    "    plt.figure(figsize=(12, 5))\n",
    "    \n",
    "    plt.subplot(1, 2, 1)\n",
    "    plt.plot(K, inertias, 'bx-')\n",
    "    plt.xlabel('k')\n",
    "    plt.ylabel('Inertia')\n",
    "    plt.title('Elbow Method')\n",
    "    \n",
    "    plt.subplot(1, 2, 2)\n",
    "    plt.plot(range(2, max_clusters + 1), silhouette_scores, 'rx-')\n",
    "    plt.xlabel('k')\n",
    "    plt.ylabel('Silhouette Score')\n",
    "    plt.title('Silhouette Analysis')\n",
    "    \n",
    "    plt.tight_layout()\n",
    "    plt.savefig('cluster_analysis.png')\n",
    "    plt.close()\n",
    "    \n",
    "    print(\"Cluster analysis plots saved to 'cluster_analysis.png'\")\n",
    "    \n",
    "    return inertias, silhouette_scores"
   ]
  },
  {
   "cell_type": "code",
   "execution_count": 21,
   "metadata": {},
   "outputs": [
    {
     "name": "stdout",
     "output_type": "stream",
     "text": [
      "\n",
      "Step 2: Finding optimal number of clusters...\n",
      "\n",
      "Calculating cluster metrics...\n",
      "Using MiniBatchKMeans for faster computation...\n",
      "Processing k=1 (inertia calculation)...\n",
      "Processing k=2 (inertia calculation)...\n",
      "Processing k=3 (inertia calculation)...\n",
      "Processing k=4 (inertia calculation)...\n",
      "Processing k=5 (inertia calculation)...\n",
      "\n",
      "Calculating silhouette scores...\n",
      "Processing k=2 (silhouette calculation)...\n",
      "Processing k=3 (silhouette calculation)...\n",
      "Processing k=4 (silhouette calculation)...\n",
      "Processing k=5 (silhouette calculation)...\n",
      "\n",
      "Generating plots...\n",
      "Cluster analysis plots saved to 'cluster_analysis.png'\n"
     ]
    },
    {
     "data": {
      "text/plain": [
       "([1114543.3802649814,\n",
       "  677704.2829092985,\n",
       "  526315.3850701778,\n",
       "  381149.3068163104,\n",
       "  308828.23828633985],\n",
       " [np.float64(0.4250738673892818),\n",
       "  np.float64(0.3763281376382265),\n",
       "  np.float64(0.4048933797767197),\n",
       "  np.float64(0.3712100425242607)])"
      ]
     },
     "execution_count": 21,
     "metadata": {},
     "output_type": "execute_result"
    }
   ],
   "source": [
    "print(\"\\nStep 2: Finding optimal number of clusters...\")\n",
    "find_optimal_clusters(X_scaled)"
   ]
  }
 ],
 "metadata": {
  "kernelspec": {
   "display_name": ".venv",
   "language": "python",
   "name": "python3"
  },
  "language_info": {
   "codemirror_mode": {
    "name": "ipython",
    "version": 3
   },
   "file_extension": ".py",
   "mimetype": "text/x-python",
   "name": "python",
   "nbconvert_exporter": "python",
   "pygments_lexer": "ipython3",
   "version": "3.10.12"
  }
 },
 "nbformat": 4,
 "nbformat_minor": 2
}
