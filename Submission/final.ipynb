{
 "cells": [
  {
   "cell_type": "markdown",
   "metadata": {},
   "source": [
    "---\n",
    "---\n",
    "\n",
    "# Final: Clustar: Automated Star Clustering Analysis\n",
    "\n",
    "---\n",
    "\n",
    "---\n"
   ]
  },
  {
   "cell_type": "markdown",
   "metadata": {},
   "source": [
    "- Project leverages clustering techniques to automate the detection and analysis of variable stars and transients\n",
    "- Main challenge is that: Millions of stars observed in modern surveys generate terabytes of data daily\n",
    "- Main benefit of project is that: Enhance understanding of stellar evolution and galactic dynamics\n",
    "- Dataset is from NASA Exoplanet Science Institute, providing rich photometric and light curve data for this specific period: Date: 2025.04.16, Time: 04.44.28\n",
    "- Project implements a comprehensive analysis pipeline which solves above mentioned challenges\n"
   ]
  },
  {
   "cell_type": "code",
   "execution_count": 69,
   "metadata": {},
   "outputs": [],
   "source": [
    "import pandas as pd\n",
    "import numpy as np\n",
    "import matplotlib.pyplot as plt\n",
    "import seaborn as sns\n",
    "\n",
    "from sklearn.cluster import KMeans\n",
    "from sklearn.metrics import silhouette_score, davies_bouldin_score\n",
    "from sklearn.decomposition import PCA\n",
    "from sklearn.preprocessing import StandardScaler\n",
    "from sklearn.impute import SimpleImputer\n",
    "\n",
    "\n",
    "# make pandas display ALL columns of a dataframe\n",
    "pd.options.display.max_columns = 15"
   ]
  },
  {
   "cell_type": "markdown",
   "metadata": {},
   "source": [
    "# Task 1 -- The Data\n"
   ]
  },
  {
   "cell_type": "markdown",
   "metadata": {},
   "source": [
    "- Source: NASA Exoplanet Archive – Cluster Transit Survey\n",
    "\n",
    "- Authors: The dataset is curated by the NASA Exoplanet Science Institute (NExScI) at Caltech. Specific contributors include K. von Braun, M. Abajian, B. Ali, R. Baker, G. B. Berriman, N.-M. Chiu, D. R. Ciardi, J. Good, S. R. Kane, A. C. Laity, D. L. McElroy, S. Monkewitz, A. N. Payne, S. Ramirez, M. Schmitz, J. R. Stauffer, P. L. Wyatt, and A. Zhang.\n",
    "\n",
    "- License: NASA data are generally in the public domain and free to use, provided proper acknowledgment is given.\n",
    "\n",
    "- Purpose: The dataset was collected to support the detection and analysis of transiting exoplanets, particularly in stellar clusters. It serves to aid in the prediction of exoplanet transit times and to facilitate follow-up observations with larger telescopes.\n",
    "\n",
    "- Dataset is providen on my kaggle account: https://www.kaggle.com/datasets/edgarabasov/star-observations-dataset/data\n"
   ]
  },
  {
   "cell_type": "markdown",
   "metadata": {},
   "source": [
    "## The Raw Data\n",
    "\n",
    "<div class=\"alert alert-block alert-warning\">\n",
    "\n",
    "Load the data and present a couple of samples. Call the dataset variable **raw_data**.\n",
    "\n",
    "(Commented code, add cells below)\n",
    "\n",
    "</div>\n"
   ]
  },
  {
   "cell_type": "code",
   "execution_count": 70,
   "metadata": {},
   "outputs": [],
   "source": [
    "FILE_PATH = \"../data\"\n",
    "FILE_NAME = \"Star_Data_2025.04.16_04.44.28.csv\"\n",
    "FILE = FILE_PATH + '/' + FILE_NAME"
   ]
  },
  {
   "cell_type": "code",
   "execution_count": 71,
   "metadata": {},
   "outputs": [],
   "source": [
    "raw_data = pd.read_csv(FILE)"
   ]
  },
  {
   "cell_type": "code",
   "execution_count": 72,
   "metadata": {},
   "outputs": [
    {
     "data": {
      "text/plain": [
       "array(['NGC2301_Center_2', 'NGC2301_Center_3', 'NGC2301_Center_4', ...,\n",
       "       'M10_I_2286', 'M10_I_2099', 'M10_I_2133'],\n",
       "      shape=(138935,), dtype=object)"
      ]
     },
     "execution_count": 72,
     "metadata": {},
     "output_type": "execute_result"
    }
   ],
   "source": [
    "raw_data.star_id.unique()"
   ]
  },
  {
   "cell_type": "code",
   "execution_count": 73,
   "metadata": {},
   "outputs": [
    {
     "data": {
      "text/html": [
       "<div>\n",
       "<style scoped>\n",
       "    .dataframe tbody tr th:only-of-type {\n",
       "        vertical-align: middle;\n",
       "    }\n",
       "\n",
       "    .dataframe tbody tr th {\n",
       "        vertical-align: top;\n",
       "    }\n",
       "\n",
       "    .dataframe thead th {\n",
       "        text-align: right;\n",
       "    }\n",
       "</style>\n",
       "<table border=\"1\" class=\"dataframe\">\n",
       "  <thead>\n",
       "    <tr style=\"text-align: right;\">\n",
       "      <th></th>\n",
       "      <th>star_id</th>\n",
       "      <th>region</th>\n",
       "      <th>ra</th>\n",
       "      <th>dec</th>\n",
       "      <th>starthjd</th>\n",
       "      <th>endhjd</th>\n",
       "      <th>bmag</th>\n",
       "      <th>...</th>\n",
       "      <th>verr</th>\n",
       "      <th>rmag</th>\n",
       "      <th>rerr</th>\n",
       "      <th>imag</th>\n",
       "      <th>ierr</th>\n",
       "      <th>lcfil</th>\n",
       "      <th>npts</th>\n",
       "    </tr>\n",
       "  </thead>\n",
       "  <tbody>\n",
       "    <tr>\n",
       "      <th>0</th>\n",
       "      <td>NGC2301_Center_2</td>\n",
       "      <td>NGC2301</td>\n",
       "      <td>103.0431</td>\n",
       "      <td>0.4158</td>\n",
       "      <td>2453047.76</td>\n",
       "      <td>2453058.94</td>\n",
       "      <td>11.139</td>\n",
       "      <td>...</td>\n",
       "      <td>NaN</td>\n",
       "      <td>11.083</td>\n",
       "      <td>0.003</td>\n",
       "      <td>NaN</td>\n",
       "      <td>NaN</td>\n",
       "      <td>R</td>\n",
       "      <td>167</td>\n",
       "    </tr>\n",
       "    <tr>\n",
       "      <th>1</th>\n",
       "      <td>NGC2301_Center_3</td>\n",
       "      <td>NGC2301</td>\n",
       "      <td>102.9154</td>\n",
       "      <td>0.4254</td>\n",
       "      <td>2453047.76</td>\n",
       "      <td>2453058.94</td>\n",
       "      <td>12.193</td>\n",
       "      <td>...</td>\n",
       "      <td>NaN</td>\n",
       "      <td>11.869</td>\n",
       "      <td>0.005</td>\n",
       "      <td>NaN</td>\n",
       "      <td>NaN</td>\n",
       "      <td>R</td>\n",
       "      <td>167</td>\n",
       "    </tr>\n",
       "    <tr>\n",
       "      <th>2</th>\n",
       "      <td>NGC2301_Center_4</td>\n",
       "      <td>NGC2301</td>\n",
       "      <td>102.9629</td>\n",
       "      <td>0.4276</td>\n",
       "      <td>2453047.76</td>\n",
       "      <td>2453058.94</td>\n",
       "      <td>11.976</td>\n",
       "      <td>...</td>\n",
       "      <td>NaN</td>\n",
       "      <td>11.460</td>\n",
       "      <td>0.003</td>\n",
       "      <td>NaN</td>\n",
       "      <td>NaN</td>\n",
       "      <td>R</td>\n",
       "      <td>167</td>\n",
       "    </tr>\n",
       "    <tr>\n",
       "      <th>3</th>\n",
       "      <td>NGC2301_Center_5</td>\n",
       "      <td>NGC2301</td>\n",
       "      <td>103.0485</td>\n",
       "      <td>0.4260</td>\n",
       "      <td>2453047.76</td>\n",
       "      <td>2453058.94</td>\n",
       "      <td>11.065</td>\n",
       "      <td>...</td>\n",
       "      <td>NaN</td>\n",
       "      <td>10.992</td>\n",
       "      <td>0.003</td>\n",
       "      <td>NaN</td>\n",
       "      <td>NaN</td>\n",
       "      <td>R</td>\n",
       "      <td>167</td>\n",
       "    </tr>\n",
       "    <tr>\n",
       "      <th>4</th>\n",
       "      <td>NGC2301_Center_6</td>\n",
       "      <td>NGC2301</td>\n",
       "      <td>102.9760</td>\n",
       "      <td>0.4326</td>\n",
       "      <td>2453047.76</td>\n",
       "      <td>2453058.94</td>\n",
       "      <td>11.914</td>\n",
       "      <td>...</td>\n",
       "      <td>NaN</td>\n",
       "      <td>11.668</td>\n",
       "      <td>0.005</td>\n",
       "      <td>NaN</td>\n",
       "      <td>NaN</td>\n",
       "      <td>R</td>\n",
       "      <td>167</td>\n",
       "    </tr>\n",
       "  </tbody>\n",
       "</table>\n",
       "<p>5 rows × 16 columns</p>\n",
       "</div>"
      ],
      "text/plain": [
       "            star_id   region        ra     dec    starthjd      endhjd  \\\n",
       "0  NGC2301_Center_2  NGC2301  103.0431  0.4158  2453047.76  2453058.94   \n",
       "1  NGC2301_Center_3  NGC2301  102.9154  0.4254  2453047.76  2453058.94   \n",
       "2  NGC2301_Center_4  NGC2301  102.9629  0.4276  2453047.76  2453058.94   \n",
       "3  NGC2301_Center_5  NGC2301  103.0485  0.4260  2453047.76  2453058.94   \n",
       "4  NGC2301_Center_6  NGC2301  102.9760  0.4326  2453047.76  2453058.94   \n",
       "\n",
       "     bmag  ...  verr    rmag   rerr  imag  ierr  lcfil  npts  \n",
       "0  11.139  ...   NaN  11.083  0.003   NaN   NaN      R   167  \n",
       "1  12.193  ...   NaN  11.869  0.005   NaN   NaN      R   167  \n",
       "2  11.976  ...   NaN  11.460  0.003   NaN   NaN      R   167  \n",
       "3  11.065  ...   NaN  10.992  0.003   NaN   NaN      R   167  \n",
       "4  11.914  ...   NaN  11.668  0.005   NaN   NaN      R   167  \n",
       "\n",
       "[5 rows x 16 columns]"
      ]
     },
     "execution_count": 73,
     "metadata": {},
     "output_type": "execute_result"
    }
   ],
   "source": [
    "raw_data.head()"
   ]
  },
  {
   "cell_type": "markdown",
   "metadata": {},
   "source": [
    "| Feature  | Range / Type                                                                                    | Explanation                                              |\n",
    "| -------- | ----------------------------------------------------------------------------------------------- | -------------------------------------------------------- |\n",
    "| star_id  | Categorical (unique string/int, e.g., 'NGC2301_Center_2', 'NGC2301_Center_3')                   | Unique identifier for each star                          |\n",
    "| region   | Categorical (string, e.g., 'NGC2301', 'NGC3201', 'M10', 'M12')                                  | Part of the sky surveyed                                 |\n",
    "| ra       | 102.75 – 254.49 (degrees, float)                                                                | Right Ascension in degrees                               |\n",
    "| dec      | -46.61 – 0.69 (degrees, float)                                                                  | Declination in degrees                                   |\n",
    "| starthjd | 2,449,898 – 2,453,048 (float)                                                                   | Start time of observation (Heliocentric Julian Date)     |\n",
    "| endhjd   | 2,449,903 – 2,453,059 (float)                                                                   | End time of observation (Heliocentric Julian Date)       |\n",
    "| bmag     | 10.01 – 22.45 (float, some missing)                                                             | B-band magnitude (brightness in B band)                  |\n",
    "| berr     | 0.01 – 0.1 (float, assumed, some missing)                                                       | Uncertainty in B-band magnitude                          |\n",
    "| vmag     | 10.0 – 22.0 (float, assumed, some missing)                                                      | V-band magnitude (brightness in V band)                  |\n",
    "| verr     | 0.01 – 0.1 (float, assumed, some missing)                                                       | Uncertainty in V-band magnitude                          |\n",
    "| rmag     | 9.84 – 19.48 (float, some missing)                                                              | R-band magnitude (brightness in R band)                  |\n",
    "| rerr     | 0.001 – 0.065 (float)                                                                           | R-band magnitude uncertainty                             |\n",
    "| imag     | 14.16 – 23.08 (float)                                                                           | I-band magnitude (brightness in I band)                  |\n",
    "| ierr     | 0.01 – 1.22 (float)                                                                             | I-band magnitude uncertainty                             |\n",
    "| lcfil    | Categorical (string, e.g., 'B', 'V', 'R', 'I')                                                  | Filter used for light curve data                         |\n",
    "| npts     | 8 – 175 (integer)                                                                               | Number of points in the light curve                      |"
   ]
  },
  {
   "cell_type": "markdown",
   "metadata": {},
   "source": [
    "<div class=\"alert alert-block alert-warning\">\n",
    "Explain why the dataset is suitable for the pitched task!\n",
    "    \n",
    "(Add up 3 bullet points in the cell below)\n",
    "</div>\n"
   ]
  },
  {
   "cell_type": "markdown",
   "metadata": {},
   "source": [
    "- Multi-dimensional Features: Contains multiple photometric measurements (B,V,R,I magnitudes) and spatial coordinates (RA,DEC), providing rich data for pattern recognition.\n",
    "- Quality Metrics: Includes error measurements for each magnitude, allowing for weighted clustering based on measurement reliability.\n",
    "- Natural Structure: Data is organized by regions (e.g., NGC2301) with multiple observations per star, suggesting potential natural groupings that clustering can identify.\n"
   ]
  },
  {
   "cell_type": "markdown",
   "metadata": {},
   "source": [
    "# Task 2 -- Initial Data Analysis\n"
   ]
  },
  {
   "cell_type": "markdown",
   "metadata": {},
   "source": [
    "<div class=\"alert alert-block alert-warning\"> \n",
    "<b>Initial Data Analysis (IDA)</b>: Present relevant quantities about the data.\n",
    "    \n",
    "(Commented Code + bullet points, add cells below)\n",
    "</div>\n"
   ]
  },
  {
   "cell_type": "code",
   "execution_count": 74,
   "metadata": {},
   "outputs": [
    {
     "name": "stdout",
     "output_type": "stream",
     "text": [
      "<class 'pandas.core.frame.DataFrame'>\n",
      "RangeIndex: 138935 entries, 0 to 138934\n",
      "Data columns (total 16 columns):\n",
      " #   Column    Non-Null Count   Dtype  \n",
      "---  ------    --------------   -----  \n",
      " 0   star_id   138935 non-null  object \n",
      " 1   region    138935 non-null  object \n",
      " 2   ra        138935 non-null  float64\n",
      " 3   dec       138935 non-null  float64\n",
      " 4   starthjd  138935 non-null  float64\n",
      " 5   endhjd    138935 non-null  float64\n",
      " 6   bmag      3961 non-null    float64\n",
      " 7   berr      3961 non-null    float64\n",
      " 8   vmag      127364 non-null  float64\n",
      " 9   verr      127364 non-null  float64\n",
      " 10  rmag      3961 non-null    float64\n",
      " 11  rerr      3961 non-null    float64\n",
      " 12  imag      131440 non-null  float64\n",
      " 13  ierr      131440 non-null  float64\n",
      " 14  lcfil     138935 non-null  object \n",
      " 15  npts      138935 non-null  int64  \n",
      "dtypes: float64(12), int64(1), object(3)\n",
      "memory usage: 17.0+ MB\n"
     ]
    }
   ],
   "source": [
    "raw_data.info()"
   ]
  },
  {
   "cell_type": "markdown",
   "metadata": {},
   "source": [
    "- Total 15 columns\n",
    "- Mixed amount of object and numeric data\n",
    "- Some columns contain a lot of missing data\n"
   ]
  },
  {
   "cell_type": "code",
   "execution_count": 75,
   "metadata": {},
   "outputs": [
    {
     "data": {
      "text/html": [
       "<div>\n",
       "<style scoped>\n",
       "    .dataframe tbody tr th:only-of-type {\n",
       "        vertical-align: middle;\n",
       "    }\n",
       "\n",
       "    .dataframe tbody tr th {\n",
       "        vertical-align: top;\n",
       "    }\n",
       "\n",
       "    .dataframe thead th {\n",
       "        text-align: right;\n",
       "    }\n",
       "</style>\n",
       "<table border=\"1\" class=\"dataframe\">\n",
       "  <thead>\n",
       "    <tr style=\"text-align: right;\">\n",
       "      <th></th>\n",
       "      <th>ra</th>\n",
       "      <th>dec</th>\n",
       "      <th>starthjd</th>\n",
       "      <th>endhjd</th>\n",
       "      <th>bmag</th>\n",
       "      <th>berr</th>\n",
       "      <th>vmag</th>\n",
       "      <th>verr</th>\n",
       "      <th>rmag</th>\n",
       "      <th>rerr</th>\n",
       "      <th>imag</th>\n",
       "      <th>ierr</th>\n",
       "      <th>npts</th>\n",
       "    </tr>\n",
       "  </thead>\n",
       "  <tbody>\n",
       "    <tr>\n",
       "      <th>count</th>\n",
       "      <td>138935.000000</td>\n",
       "      <td>138935.000000</td>\n",
       "      <td>1.389350e+05</td>\n",
       "      <td>1.389350e+05</td>\n",
       "      <td>3961.000000</td>\n",
       "      <td>3961.000000</td>\n",
       "      <td>127364.000000</td>\n",
       "      <td>127364.000000</td>\n",
       "      <td>3961.000000</td>\n",
       "      <td>3961.000000</td>\n",
       "      <td>131440.000000</td>\n",
       "      <td>131440.000000</td>\n",
       "      <td>138935.00000</td>\n",
       "    </tr>\n",
       "    <tr>\n",
       "      <th>mean</th>\n",
       "      <td>207.216280</td>\n",
       "      <td>-21.339073</td>\n",
       "      <td>2.450392e+06</td>\n",
       "      <td>2.451170e+06</td>\n",
       "      <td>19.193779</td>\n",
       "      <td>0.008489</td>\n",
       "      <td>20.670804</td>\n",
       "      <td>0.091144</td>\n",
       "      <td>17.331396</td>\n",
       "      <td>0.003215</td>\n",
       "      <td>19.454649</td>\n",
       "      <td>0.068939</td>\n",
       "      <td>88.21410</td>\n",
       "    </tr>\n",
       "    <tr>\n",
       "      <th>std</th>\n",
       "      <td>51.492794</td>\n",
       "      <td>21.465881</td>\n",
       "      <td>5.047825e+02</td>\n",
       "      <td>3.699247e+02</td>\n",
       "      <td>2.131007</td>\n",
       "      <td>0.006817</td>\n",
       "      <td>1.523555</td>\n",
       "      <td>0.097095</td>\n",
       "      <td>1.759611</td>\n",
       "      <td>0.002474</td>\n",
       "      <td>1.315436</td>\n",
       "      <td>0.062515</td>\n",
       "      <td>40.16088</td>\n",
       "    </tr>\n",
       "    <tr>\n",
       "      <th>min</th>\n",
       "      <td>102.750100</td>\n",
       "      <td>-46.611600</td>\n",
       "      <td>2.449898e+06</td>\n",
       "      <td>2.449903e+06</td>\n",
       "      <td>10.010000</td>\n",
       "      <td>0.001000</td>\n",
       "      <td>15.505000</td>\n",
       "      <td>0.010000</td>\n",
       "      <td>9.844000</td>\n",
       "      <td>0.001000</td>\n",
       "      <td>14.155000</td>\n",
       "      <td>0.010000</td>\n",
       "      <td>8.00000</td>\n",
       "    </tr>\n",
       "    <tr>\n",
       "      <th>25%</th>\n",
       "      <td>154.404500</td>\n",
       "      <td>-46.395000</td>\n",
       "      <td>2.450200e+06</td>\n",
       "      <td>2.450941e+06</td>\n",
       "      <td>18.198000</td>\n",
       "      <td>0.005000</td>\n",
       "      <td>19.596000</td>\n",
       "      <td>0.023000</td>\n",
       "      <td>16.503000</td>\n",
       "      <td>0.002000</td>\n",
       "      <td>18.595000</td>\n",
       "      <td>0.023000</td>\n",
       "      <td>51.00000</td>\n",
       "    </tr>\n",
       "    <tr>\n",
       "      <th>50%</th>\n",
       "      <td>251.736100</td>\n",
       "      <td>-4.165700</td>\n",
       "      <td>2.450245e+06</td>\n",
       "      <td>2.451053e+06</td>\n",
       "      <td>19.729000</td>\n",
       "      <td>0.007000</td>\n",
       "      <td>20.792000</td>\n",
       "      <td>0.053000</td>\n",
       "      <td>17.788000</td>\n",
       "      <td>0.003000</td>\n",
       "      <td>19.602000</td>\n",
       "      <td>0.047000</td>\n",
       "      <td>92.00000</td>\n",
       "    </tr>\n",
       "    <tr>\n",
       "      <th>75%</th>\n",
       "      <td>254.211500</td>\n",
       "      <td>-2.097200</td>\n",
       "      <td>2.450567e+06</td>\n",
       "      <td>2.451319e+06</td>\n",
       "      <td>20.781000</td>\n",
       "      <td>0.010000</td>\n",
       "      <td>21.915000</td>\n",
       "      <td>0.131000</td>\n",
       "      <td>18.655000</td>\n",
       "      <td>0.004000</td>\n",
       "      <td>20.481000</td>\n",
       "      <td>0.096000</td>\n",
       "      <td>126.00000</td>\n",
       "    </tr>\n",
       "    <tr>\n",
       "      <th>max</th>\n",
       "      <td>254.486800</td>\n",
       "      <td>0.690800</td>\n",
       "      <td>2.453048e+06</td>\n",
       "      <td>2.453059e+06</td>\n",
       "      <td>22.449000</td>\n",
       "      <td>0.105000</td>\n",
       "      <td>25.097000</td>\n",
       "      <td>2.862000</td>\n",
       "      <td>19.478000</td>\n",
       "      <td>0.065000</td>\n",
       "      <td>23.077000</td>\n",
       "      <td>1.223000</td>\n",
       "      <td>175.00000</td>\n",
       "    </tr>\n",
       "  </tbody>\n",
       "</table>\n",
       "</div>"
      ],
      "text/plain": [
       "                  ra            dec      starthjd        endhjd         bmag  \\\n",
       "count  138935.000000  138935.000000  1.389350e+05  1.389350e+05  3961.000000   \n",
       "mean      207.216280     -21.339073  2.450392e+06  2.451170e+06    19.193779   \n",
       "std        51.492794      21.465881  5.047825e+02  3.699247e+02     2.131007   \n",
       "min       102.750100     -46.611600  2.449898e+06  2.449903e+06    10.010000   \n",
       "25%       154.404500     -46.395000  2.450200e+06  2.450941e+06    18.198000   \n",
       "50%       251.736100      -4.165700  2.450245e+06  2.451053e+06    19.729000   \n",
       "75%       254.211500      -2.097200  2.450567e+06  2.451319e+06    20.781000   \n",
       "max       254.486800       0.690800  2.453048e+06  2.453059e+06    22.449000   \n",
       "\n",
       "              berr           vmag           verr         rmag         rerr  \\\n",
       "count  3961.000000  127364.000000  127364.000000  3961.000000  3961.000000   \n",
       "mean      0.008489      20.670804       0.091144    17.331396     0.003215   \n",
       "std       0.006817       1.523555       0.097095     1.759611     0.002474   \n",
       "min       0.001000      15.505000       0.010000     9.844000     0.001000   \n",
       "25%       0.005000      19.596000       0.023000    16.503000     0.002000   \n",
       "50%       0.007000      20.792000       0.053000    17.788000     0.003000   \n",
       "75%       0.010000      21.915000       0.131000    18.655000     0.004000   \n",
       "max       0.105000      25.097000       2.862000    19.478000     0.065000   \n",
       "\n",
       "                imag           ierr          npts  \n",
       "count  131440.000000  131440.000000  138935.00000  \n",
       "mean       19.454649       0.068939      88.21410  \n",
       "std         1.315436       0.062515      40.16088  \n",
       "min        14.155000       0.010000       8.00000  \n",
       "25%        18.595000       0.023000      51.00000  \n",
       "50%        19.602000       0.047000      92.00000  \n",
       "75%        20.481000       0.096000     126.00000  \n",
       "max        23.077000       1.223000     175.00000  "
      ]
     },
     "execution_count": 75,
     "metadata": {},
     "output_type": "execute_result"
    }
   ],
   "source": [
    "raw_data.describe()"
   ]
  },
  {
   "cell_type": "markdown",
   "metadata": {},
   "source": [
    "- Describe method gave us insight about data's distribution for numerical columns.\n"
   ]
  },
  {
   "cell_type": "markdown",
   "metadata": {},
   "source": [
    "# Task 3 -- Preprocessing\n",
    "\n",
    "<div class=\"alert alert-block alert-warning\"> \n",
    "Conduct all steps of Task 3. Call the result \"data\".\n",
    "    \n",
    "(Commented code + bullet points, add cells below)\n",
    "</div>\n"
   ]
  },
  {
   "cell_type": "markdown",
   "metadata": {},
   "source": [
    "- Considering dataset and its structure I am going to preform preprocessing\n",
    "\n",
    "- For this case I am going to select only the columns that are relevant for the analysis\n"
   ]
  },
  {
   "cell_type": "code",
   "execution_count": 76,
   "metadata": {},
   "outputs": [
    {
     "data": {
      "text/plain": [
       "star_id          0\n",
       "region           0\n",
       "ra               0\n",
       "dec              0\n",
       "starthjd         0\n",
       "endhjd           0\n",
       "bmag        134974\n",
       "berr        134974\n",
       "vmag         11571\n",
       "verr         11571\n",
       "rmag        134974\n",
       "rerr        134974\n",
       "imag          7495\n",
       "ierr          7495\n",
       "lcfil            0\n",
       "npts             0\n",
       "dtype: int64"
      ]
     },
     "execution_count": 76,
     "metadata": {},
     "output_type": "execute_result"
    }
   ],
   "source": [
    "raw_data.isnull().sum()"
   ]
  },
  {
   "cell_type": "code",
   "execution_count": 77,
   "metadata": {},
   "outputs": [
    {
     "data": {
      "text/plain": [
       "star_id     0.000000\n",
       "region      0.000000\n",
       "ra          0.000000\n",
       "dec         0.000000\n",
       "starthjd    0.000000\n",
       "endhjd      0.000000\n",
       "bmag        0.971490\n",
       "berr        0.971490\n",
       "vmag        0.083284\n",
       "verr        0.083284\n",
       "rmag        0.971490\n",
       "rerr        0.971490\n",
       "imag        0.053946\n",
       "ierr        0.053946\n",
       "lcfil       0.000000\n",
       "npts        0.000000\n",
       "dtype: float64"
      ]
     },
     "execution_count": 77,
     "metadata": {},
     "output_type": "execute_result"
    }
   ],
   "source": [
    "raw_data.isnull().sum() / raw_data.shape[0]"
   ]
  },
  {
   "cell_type": "markdown",
   "metadata": {},
   "source": [
    "- 4 column contain more than 97% data lose that is why it could not be processed further\n",
    "- columns with ~ 5% of null values could be imputed and used in further analysis\n",
    "- star_id column is not useful for further analysis\n",
    "- categorical columns such as region could be converted to numerical values because of not huge amount of categories\n"
   ]
  },
  {
   "cell_type": "code",
   "execution_count": 78,
   "metadata": {},
   "outputs": [
    {
     "data": {
      "text/plain": [
       "region\n",
       "NGC3201    58666\n",
       "M10        43930\n",
       "M12        32378\n",
       "NGC2301     3961\n",
       "Name: count, dtype: int64"
      ]
     },
     "execution_count": 78,
     "metadata": {},
     "output_type": "execute_result"
    }
   ],
   "source": [
    "raw_data.region.value_counts() ## this proofs that this categorical value is distributad naturally in dataset and it worth to use it in following stages"
   ]
  },
  {
   "cell_type": "code",
   "execution_count": 79,
   "metadata": {},
   "outputs": [],
   "source": [
    "columns_to_remove = ['bmag','berr','rmag','rerr','star_id']\n"
   ]
  },
  {
   "cell_type": "code",
   "execution_count": 80,
   "metadata": {},
   "outputs": [],
   "source": [
    "raw_data_selected = raw_data.drop(columns=columns_to_remove)"
   ]
  },
  {
   "cell_type": "code",
   "execution_count": 81,
   "metadata": {},
   "outputs": [
    {
     "data": {
      "text/html": [
       "<div>\n",
       "<style scoped>\n",
       "    .dataframe tbody tr th:only-of-type {\n",
       "        vertical-align: middle;\n",
       "    }\n",
       "\n",
       "    .dataframe tbody tr th {\n",
       "        vertical-align: top;\n",
       "    }\n",
       "\n",
       "    .dataframe thead th {\n",
       "        text-align: right;\n",
       "    }\n",
       "</style>\n",
       "<table border=\"1\" class=\"dataframe\">\n",
       "  <thead>\n",
       "    <tr style=\"text-align: right;\">\n",
       "      <th></th>\n",
       "      <th>region</th>\n",
       "      <th>ra</th>\n",
       "      <th>dec</th>\n",
       "      <th>starthjd</th>\n",
       "      <th>endhjd</th>\n",
       "      <th>vmag</th>\n",
       "      <th>verr</th>\n",
       "      <th>imag</th>\n",
       "      <th>ierr</th>\n",
       "      <th>lcfil</th>\n",
       "      <th>npts</th>\n",
       "    </tr>\n",
       "  </thead>\n",
       "  <tbody>\n",
       "    <tr>\n",
       "      <th>0</th>\n",
       "      <td>NGC2301</td>\n",
       "      <td>103.0431</td>\n",
       "      <td>0.4158</td>\n",
       "      <td>2453047.76</td>\n",
       "      <td>2453058.94</td>\n",
       "      <td>NaN</td>\n",
       "      <td>NaN</td>\n",
       "      <td>NaN</td>\n",
       "      <td>NaN</td>\n",
       "      <td>R</td>\n",
       "      <td>167</td>\n",
       "    </tr>\n",
       "    <tr>\n",
       "      <th>1</th>\n",
       "      <td>NGC2301</td>\n",
       "      <td>102.9154</td>\n",
       "      <td>0.4254</td>\n",
       "      <td>2453047.76</td>\n",
       "      <td>2453058.94</td>\n",
       "      <td>NaN</td>\n",
       "      <td>NaN</td>\n",
       "      <td>NaN</td>\n",
       "      <td>NaN</td>\n",
       "      <td>R</td>\n",
       "      <td>167</td>\n",
       "    </tr>\n",
       "    <tr>\n",
       "      <th>2</th>\n",
       "      <td>NGC2301</td>\n",
       "      <td>102.9629</td>\n",
       "      <td>0.4276</td>\n",
       "      <td>2453047.76</td>\n",
       "      <td>2453058.94</td>\n",
       "      <td>NaN</td>\n",
       "      <td>NaN</td>\n",
       "      <td>NaN</td>\n",
       "      <td>NaN</td>\n",
       "      <td>R</td>\n",
       "      <td>167</td>\n",
       "    </tr>\n",
       "    <tr>\n",
       "      <th>3</th>\n",
       "      <td>NGC2301</td>\n",
       "      <td>103.0485</td>\n",
       "      <td>0.4260</td>\n",
       "      <td>2453047.76</td>\n",
       "      <td>2453058.94</td>\n",
       "      <td>NaN</td>\n",
       "      <td>NaN</td>\n",
       "      <td>NaN</td>\n",
       "      <td>NaN</td>\n",
       "      <td>R</td>\n",
       "      <td>167</td>\n",
       "    </tr>\n",
       "    <tr>\n",
       "      <th>4</th>\n",
       "      <td>NGC2301</td>\n",
       "      <td>102.9760</td>\n",
       "      <td>0.4326</td>\n",
       "      <td>2453047.76</td>\n",
       "      <td>2453058.94</td>\n",
       "      <td>NaN</td>\n",
       "      <td>NaN</td>\n",
       "      <td>NaN</td>\n",
       "      <td>NaN</td>\n",
       "      <td>R</td>\n",
       "      <td>167</td>\n",
       "    </tr>\n",
       "  </tbody>\n",
       "</table>\n",
       "</div>"
      ],
      "text/plain": [
       "    region        ra     dec    starthjd      endhjd  vmag  verr  imag  ierr  \\\n",
       "0  NGC2301  103.0431  0.4158  2453047.76  2453058.94   NaN   NaN   NaN   NaN   \n",
       "1  NGC2301  102.9154  0.4254  2453047.76  2453058.94   NaN   NaN   NaN   NaN   \n",
       "2  NGC2301  102.9629  0.4276  2453047.76  2453058.94   NaN   NaN   NaN   NaN   \n",
       "3  NGC2301  103.0485  0.4260  2453047.76  2453058.94   NaN   NaN   NaN   NaN   \n",
       "4  NGC2301  102.9760  0.4326  2453047.76  2453058.94   NaN   NaN   NaN   NaN   \n",
       "\n",
       "  lcfil  npts  \n",
       "0     R   167  \n",
       "1     R   167  \n",
       "2     R   167  \n",
       "3     R   167  \n",
       "4     R   167  "
      ]
     },
     "execution_count": 81,
     "metadata": {},
     "output_type": "execute_result"
    }
   ],
   "source": [
    "raw_data_selected.head()"
   ]
  },
  {
   "cell_type": "code",
   "execution_count": 82,
   "metadata": {},
   "outputs": [],
   "source": [
    "one_hot = pd.get_dummies(raw_data_selected['region'], prefix='region')\n",
    "df_encoded = pd.concat([raw_data_selected, one_hot], axis=1)"
   ]
  },
  {
   "cell_type": "code",
   "execution_count": 83,
   "metadata": {},
   "outputs": [
    {
     "data": {
      "text/html": [
       "<div>\n",
       "<style scoped>\n",
       "    .dataframe tbody tr th:only-of-type {\n",
       "        vertical-align: middle;\n",
       "    }\n",
       "\n",
       "    .dataframe tbody tr th {\n",
       "        vertical-align: top;\n",
       "    }\n",
       "\n",
       "    .dataframe thead th {\n",
       "        text-align: right;\n",
       "    }\n",
       "</style>\n",
       "<table border=\"1\" class=\"dataframe\">\n",
       "  <thead>\n",
       "    <tr style=\"text-align: right;\">\n",
       "      <th></th>\n",
       "      <th>region</th>\n",
       "      <th>ra</th>\n",
       "      <th>dec</th>\n",
       "      <th>starthjd</th>\n",
       "      <th>endhjd</th>\n",
       "      <th>vmag</th>\n",
       "      <th>verr</th>\n",
       "      <th>imag</th>\n",
       "      <th>ierr</th>\n",
       "      <th>lcfil</th>\n",
       "      <th>npts</th>\n",
       "      <th>region_M10</th>\n",
       "      <th>region_M12</th>\n",
       "      <th>region_NGC2301</th>\n",
       "      <th>region_NGC3201</th>\n",
       "    </tr>\n",
       "  </thead>\n",
       "  <tbody>\n",
       "    <tr>\n",
       "      <th>0</th>\n",
       "      <td>NGC2301</td>\n",
       "      <td>103.0431</td>\n",
       "      <td>0.4158</td>\n",
       "      <td>2453047.76</td>\n",
       "      <td>2453058.94</td>\n",
       "      <td>NaN</td>\n",
       "      <td>NaN</td>\n",
       "      <td>NaN</td>\n",
       "      <td>NaN</td>\n",
       "      <td>R</td>\n",
       "      <td>167</td>\n",
       "      <td>False</td>\n",
       "      <td>False</td>\n",
       "      <td>True</td>\n",
       "      <td>False</td>\n",
       "    </tr>\n",
       "    <tr>\n",
       "      <th>1</th>\n",
       "      <td>NGC2301</td>\n",
       "      <td>102.9154</td>\n",
       "      <td>0.4254</td>\n",
       "      <td>2453047.76</td>\n",
       "      <td>2453058.94</td>\n",
       "      <td>NaN</td>\n",
       "      <td>NaN</td>\n",
       "      <td>NaN</td>\n",
       "      <td>NaN</td>\n",
       "      <td>R</td>\n",
       "      <td>167</td>\n",
       "      <td>False</td>\n",
       "      <td>False</td>\n",
       "      <td>True</td>\n",
       "      <td>False</td>\n",
       "    </tr>\n",
       "    <tr>\n",
       "      <th>2</th>\n",
       "      <td>NGC2301</td>\n",
       "      <td>102.9629</td>\n",
       "      <td>0.4276</td>\n",
       "      <td>2453047.76</td>\n",
       "      <td>2453058.94</td>\n",
       "      <td>NaN</td>\n",
       "      <td>NaN</td>\n",
       "      <td>NaN</td>\n",
       "      <td>NaN</td>\n",
       "      <td>R</td>\n",
       "      <td>167</td>\n",
       "      <td>False</td>\n",
       "      <td>False</td>\n",
       "      <td>True</td>\n",
       "      <td>False</td>\n",
       "    </tr>\n",
       "    <tr>\n",
       "      <th>3</th>\n",
       "      <td>NGC2301</td>\n",
       "      <td>103.0485</td>\n",
       "      <td>0.4260</td>\n",
       "      <td>2453047.76</td>\n",
       "      <td>2453058.94</td>\n",
       "      <td>NaN</td>\n",
       "      <td>NaN</td>\n",
       "      <td>NaN</td>\n",
       "      <td>NaN</td>\n",
       "      <td>R</td>\n",
       "      <td>167</td>\n",
       "      <td>False</td>\n",
       "      <td>False</td>\n",
       "      <td>True</td>\n",
       "      <td>False</td>\n",
       "    </tr>\n",
       "    <tr>\n",
       "      <th>4</th>\n",
       "      <td>NGC2301</td>\n",
       "      <td>102.9760</td>\n",
       "      <td>0.4326</td>\n",
       "      <td>2453047.76</td>\n",
       "      <td>2453058.94</td>\n",
       "      <td>NaN</td>\n",
       "      <td>NaN</td>\n",
       "      <td>NaN</td>\n",
       "      <td>NaN</td>\n",
       "      <td>R</td>\n",
       "      <td>167</td>\n",
       "      <td>False</td>\n",
       "      <td>False</td>\n",
       "      <td>True</td>\n",
       "      <td>False</td>\n",
       "    </tr>\n",
       "  </tbody>\n",
       "</table>\n",
       "</div>"
      ],
      "text/plain": [
       "    region        ra     dec    starthjd      endhjd  vmag  verr  imag  ierr  \\\n",
       "0  NGC2301  103.0431  0.4158  2453047.76  2453058.94   NaN   NaN   NaN   NaN   \n",
       "1  NGC2301  102.9154  0.4254  2453047.76  2453058.94   NaN   NaN   NaN   NaN   \n",
       "2  NGC2301  102.9629  0.4276  2453047.76  2453058.94   NaN   NaN   NaN   NaN   \n",
       "3  NGC2301  103.0485  0.4260  2453047.76  2453058.94   NaN   NaN   NaN   NaN   \n",
       "4  NGC2301  102.9760  0.4326  2453047.76  2453058.94   NaN   NaN   NaN   NaN   \n",
       "\n",
       "  lcfil  npts  region_M10  region_M12  region_NGC2301  region_NGC3201  \n",
       "0     R   167       False       False            True           False  \n",
       "1     R   167       False       False            True           False  \n",
       "2     R   167       False       False            True           False  \n",
       "3     R   167       False       False            True           False  \n",
       "4     R   167       False       False            True           False  "
      ]
     },
     "execution_count": 83,
     "metadata": {},
     "output_type": "execute_result"
    }
   ],
   "source": [
    "df_encoded.head()"
   ]
  },
  {
   "cell_type": "code",
   "execution_count": 84,
   "metadata": {},
   "outputs": [],
   "source": [
    "df_encoded = df_encoded.drop('region', axis=1)"
   ]
  },
  {
   "cell_type": "markdown",
   "metadata": {},
   "source": [
    "### Imputation for null values\n"
   ]
  },
  {
   "cell_type": "code",
   "execution_count": 85,
   "metadata": {},
   "outputs": [
    {
     "name": "stdout",
     "output_type": "stream",
     "text": [
      "vmag\n",
      "verr\n",
      "imag\n",
      "ierr\n"
     ]
    }
   ],
   "source": [
    "imputer = SimpleImputer(strategy='mean')  \n",
    "for col in df_encoded.columns:\n",
    "    if df_encoded[col].isnull().sum() > 0:\n",
    "        print(col)\n",
    "        df_encoded[col] = imputer.fit_transform(df_encoded[[col]])\n",
    "\n"
   ]
  },
  {
   "cell_type": "code",
   "execution_count": 86,
   "metadata": {},
   "outputs": [],
   "source": [
    "\n",
    "lcfil_dummies = pd.get_dummies(df_encoded['lcfil'], prefix='lcfil')\n",
    "\n",
    "\n",
    "df_encoded = pd.concat([df_encoded, lcfil_dummies], axis=1)\n",
    "\n",
    "df_encoded = df_encoded.drop('lcfil', axis=1)"
   ]
  },
  {
   "cell_type": "code",
   "execution_count": 87,
   "metadata": {},
   "outputs": [
    {
     "data": {
      "text/html": [
       "<div>\n",
       "<style scoped>\n",
       "    .dataframe tbody tr th:only-of-type {\n",
       "        vertical-align: middle;\n",
       "    }\n",
       "\n",
       "    .dataframe tbody tr th {\n",
       "        vertical-align: top;\n",
       "    }\n",
       "\n",
       "    .dataframe thead th {\n",
       "        text-align: right;\n",
       "    }\n",
       "</style>\n",
       "<table border=\"1\" class=\"dataframe\">\n",
       "  <thead>\n",
       "    <tr style=\"text-align: right;\">\n",
       "      <th></th>\n",
       "      <th>ra</th>\n",
       "      <th>dec</th>\n",
       "      <th>starthjd</th>\n",
       "      <th>endhjd</th>\n",
       "      <th>vmag</th>\n",
       "      <th>verr</th>\n",
       "      <th>imag</th>\n",
       "      <th>...</th>\n",
       "      <th>region_M10</th>\n",
       "      <th>region_M12</th>\n",
       "      <th>region_NGC2301</th>\n",
       "      <th>region_NGC3201</th>\n",
       "      <th>lcfil_I</th>\n",
       "      <th>lcfil_R</th>\n",
       "      <th>lcfil_V</th>\n",
       "    </tr>\n",
       "  </thead>\n",
       "  <tbody>\n",
       "    <tr>\n",
       "      <th>0</th>\n",
       "      <td>103.0431</td>\n",
       "      <td>0.4158</td>\n",
       "      <td>2453047.76</td>\n",
       "      <td>2453058.94</td>\n",
       "      <td>20.670804</td>\n",
       "      <td>0.091144</td>\n",
       "      <td>19.454649</td>\n",
       "      <td>...</td>\n",
       "      <td>False</td>\n",
       "      <td>False</td>\n",
       "      <td>True</td>\n",
       "      <td>False</td>\n",
       "      <td>False</td>\n",
       "      <td>True</td>\n",
       "      <td>False</td>\n",
       "    </tr>\n",
       "    <tr>\n",
       "      <th>1</th>\n",
       "      <td>102.9154</td>\n",
       "      <td>0.4254</td>\n",
       "      <td>2453047.76</td>\n",
       "      <td>2453058.94</td>\n",
       "      <td>20.670804</td>\n",
       "      <td>0.091144</td>\n",
       "      <td>19.454649</td>\n",
       "      <td>...</td>\n",
       "      <td>False</td>\n",
       "      <td>False</td>\n",
       "      <td>True</td>\n",
       "      <td>False</td>\n",
       "      <td>False</td>\n",
       "      <td>True</td>\n",
       "      <td>False</td>\n",
       "    </tr>\n",
       "    <tr>\n",
       "      <th>2</th>\n",
       "      <td>102.9629</td>\n",
       "      <td>0.4276</td>\n",
       "      <td>2453047.76</td>\n",
       "      <td>2453058.94</td>\n",
       "      <td>20.670804</td>\n",
       "      <td>0.091144</td>\n",
       "      <td>19.454649</td>\n",
       "      <td>...</td>\n",
       "      <td>False</td>\n",
       "      <td>False</td>\n",
       "      <td>True</td>\n",
       "      <td>False</td>\n",
       "      <td>False</td>\n",
       "      <td>True</td>\n",
       "      <td>False</td>\n",
       "    </tr>\n",
       "    <tr>\n",
       "      <th>3</th>\n",
       "      <td>103.0485</td>\n",
       "      <td>0.4260</td>\n",
       "      <td>2453047.76</td>\n",
       "      <td>2453058.94</td>\n",
       "      <td>20.670804</td>\n",
       "      <td>0.091144</td>\n",
       "      <td>19.454649</td>\n",
       "      <td>...</td>\n",
       "      <td>False</td>\n",
       "      <td>False</td>\n",
       "      <td>True</td>\n",
       "      <td>False</td>\n",
       "      <td>False</td>\n",
       "      <td>True</td>\n",
       "      <td>False</td>\n",
       "    </tr>\n",
       "    <tr>\n",
       "      <th>4</th>\n",
       "      <td>102.9760</td>\n",
       "      <td>0.4326</td>\n",
       "      <td>2453047.76</td>\n",
       "      <td>2453058.94</td>\n",
       "      <td>20.670804</td>\n",
       "      <td>0.091144</td>\n",
       "      <td>19.454649</td>\n",
       "      <td>...</td>\n",
       "      <td>False</td>\n",
       "      <td>False</td>\n",
       "      <td>True</td>\n",
       "      <td>False</td>\n",
       "      <td>False</td>\n",
       "      <td>True</td>\n",
       "      <td>False</td>\n",
       "    </tr>\n",
       "  </tbody>\n",
       "</table>\n",
       "<p>5 rows × 16 columns</p>\n",
       "</div>"
      ],
      "text/plain": [
       "         ra     dec    starthjd      endhjd       vmag      verr       imag  \\\n",
       "0  103.0431  0.4158  2453047.76  2453058.94  20.670804  0.091144  19.454649   \n",
       "1  102.9154  0.4254  2453047.76  2453058.94  20.670804  0.091144  19.454649   \n",
       "2  102.9629  0.4276  2453047.76  2453058.94  20.670804  0.091144  19.454649   \n",
       "3  103.0485  0.4260  2453047.76  2453058.94  20.670804  0.091144  19.454649   \n",
       "4  102.9760  0.4326  2453047.76  2453058.94  20.670804  0.091144  19.454649   \n",
       "\n",
       "   ...  region_M10  region_M12  region_NGC2301  region_NGC3201  lcfil_I  \\\n",
       "0  ...       False       False            True           False    False   \n",
       "1  ...       False       False            True           False    False   \n",
       "2  ...       False       False            True           False    False   \n",
       "3  ...       False       False            True           False    False   \n",
       "4  ...       False       False            True           False    False   \n",
       "\n",
       "   lcfil_R  lcfil_V  \n",
       "0     True    False  \n",
       "1     True    False  \n",
       "2     True    False  \n",
       "3     True    False  \n",
       "4     True    False  \n",
       "\n",
       "[5 rows x 16 columns]"
      ]
     },
     "execution_count": 87,
     "metadata": {},
     "output_type": "execute_result"
    }
   ],
   "source": [
    "df_encoded.head()"
   ]
  },
  {
   "cell_type": "code",
   "execution_count": 88,
   "metadata": {},
   "outputs": [
    {
     "data": {
      "text/html": [
       "<div>\n",
       "<style scoped>\n",
       "    .dataframe tbody tr th:only-of-type {\n",
       "        vertical-align: middle;\n",
       "    }\n",
       "\n",
       "    .dataframe tbody tr th {\n",
       "        vertical-align: top;\n",
       "    }\n",
       "\n",
       "    .dataframe thead th {\n",
       "        text-align: right;\n",
       "    }\n",
       "</style>\n",
       "<table border=\"1\" class=\"dataframe\">\n",
       "  <thead>\n",
       "    <tr style=\"text-align: right;\">\n",
       "      <th></th>\n",
       "      <th>ra</th>\n",
       "      <th>dec</th>\n",
       "      <th>starthjd</th>\n",
       "      <th>endhjd</th>\n",
       "      <th>vmag</th>\n",
       "      <th>verr</th>\n",
       "      <th>imag</th>\n",
       "      <th>...</th>\n",
       "      <th>region_M10</th>\n",
       "      <th>region_M12</th>\n",
       "      <th>region_NGC2301</th>\n",
       "      <th>region_NGC3201</th>\n",
       "      <th>lcfil_I</th>\n",
       "      <th>lcfil_R</th>\n",
       "      <th>lcfil_V</th>\n",
       "    </tr>\n",
       "  </thead>\n",
       "  <tbody>\n",
       "    <tr>\n",
       "      <th>0</th>\n",
       "      <td>103.0431</td>\n",
       "      <td>0.4158</td>\n",
       "      <td>2453047.76</td>\n",
       "      <td>2453058.94</td>\n",
       "      <td>20.670804</td>\n",
       "      <td>0.091144</td>\n",
       "      <td>19.454649</td>\n",
       "      <td>...</td>\n",
       "      <td>False</td>\n",
       "      <td>False</td>\n",
       "      <td>True</td>\n",
       "      <td>False</td>\n",
       "      <td>False</td>\n",
       "      <td>True</td>\n",
       "      <td>False</td>\n",
       "    </tr>\n",
       "    <tr>\n",
       "      <th>1</th>\n",
       "      <td>102.9154</td>\n",
       "      <td>0.4254</td>\n",
       "      <td>2453047.76</td>\n",
       "      <td>2453058.94</td>\n",
       "      <td>20.670804</td>\n",
       "      <td>0.091144</td>\n",
       "      <td>19.454649</td>\n",
       "      <td>...</td>\n",
       "      <td>False</td>\n",
       "      <td>False</td>\n",
       "      <td>True</td>\n",
       "      <td>False</td>\n",
       "      <td>False</td>\n",
       "      <td>True</td>\n",
       "      <td>False</td>\n",
       "    </tr>\n",
       "    <tr>\n",
       "      <th>2</th>\n",
       "      <td>102.9629</td>\n",
       "      <td>0.4276</td>\n",
       "      <td>2453047.76</td>\n",
       "      <td>2453058.94</td>\n",
       "      <td>20.670804</td>\n",
       "      <td>0.091144</td>\n",
       "      <td>19.454649</td>\n",
       "      <td>...</td>\n",
       "      <td>False</td>\n",
       "      <td>False</td>\n",
       "      <td>True</td>\n",
       "      <td>False</td>\n",
       "      <td>False</td>\n",
       "      <td>True</td>\n",
       "      <td>False</td>\n",
       "    </tr>\n",
       "    <tr>\n",
       "      <th>3</th>\n",
       "      <td>103.0485</td>\n",
       "      <td>0.4260</td>\n",
       "      <td>2453047.76</td>\n",
       "      <td>2453058.94</td>\n",
       "      <td>20.670804</td>\n",
       "      <td>0.091144</td>\n",
       "      <td>19.454649</td>\n",
       "      <td>...</td>\n",
       "      <td>False</td>\n",
       "      <td>False</td>\n",
       "      <td>True</td>\n",
       "      <td>False</td>\n",
       "      <td>False</td>\n",
       "      <td>True</td>\n",
       "      <td>False</td>\n",
       "    </tr>\n",
       "    <tr>\n",
       "      <th>4</th>\n",
       "      <td>102.9760</td>\n",
       "      <td>0.4326</td>\n",
       "      <td>2453047.76</td>\n",
       "      <td>2453058.94</td>\n",
       "      <td>20.670804</td>\n",
       "      <td>0.091144</td>\n",
       "      <td>19.454649</td>\n",
       "      <td>...</td>\n",
       "      <td>False</td>\n",
       "      <td>False</td>\n",
       "      <td>True</td>\n",
       "      <td>False</td>\n",
       "      <td>False</td>\n",
       "      <td>True</td>\n",
       "      <td>False</td>\n",
       "    </tr>\n",
       "    <tr>\n",
       "      <th>...</th>\n",
       "      <td>...</td>\n",
       "      <td>...</td>\n",
       "      <td>...</td>\n",
       "      <td>...</td>\n",
       "      <td>...</td>\n",
       "      <td>...</td>\n",
       "      <td>...</td>\n",
       "      <td>...</td>\n",
       "      <td>...</td>\n",
       "      <td>...</td>\n",
       "      <td>...</td>\n",
       "      <td>...</td>\n",
       "      <td>...</td>\n",
       "      <td>...</td>\n",
       "      <td>...</td>\n",
       "    </tr>\n",
       "    <tr>\n",
       "      <th>138930</th>\n",
       "      <td>254.1711</td>\n",
       "      <td>-4.0903</td>\n",
       "      <td>2450566.77</td>\n",
       "      <td>2451318.86</td>\n",
       "      <td>18.904000</td>\n",
       "      <td>0.016000</td>\n",
       "      <td>18.022000</td>\n",
       "      <td>...</td>\n",
       "      <td>True</td>\n",
       "      <td>False</td>\n",
       "      <td>False</td>\n",
       "      <td>False</td>\n",
       "      <td>True</td>\n",
       "      <td>False</td>\n",
       "      <td>False</td>\n",
       "    </tr>\n",
       "    <tr>\n",
       "      <th>138931</th>\n",
       "      <td>254.1712</td>\n",
       "      <td>-4.0854</td>\n",
       "      <td>2450931.78</td>\n",
       "      <td>2451052.53</td>\n",
       "      <td>16.355000</td>\n",
       "      <td>0.010000</td>\n",
       "      <td>15.232000</td>\n",
       "      <td>...</td>\n",
       "      <td>True</td>\n",
       "      <td>False</td>\n",
       "      <td>False</td>\n",
       "      <td>False</td>\n",
       "      <td>True</td>\n",
       "      <td>False</td>\n",
       "      <td>False</td>\n",
       "    </tr>\n",
       "    <tr>\n",
       "      <th>138932</th>\n",
       "      <td>254.1712</td>\n",
       "      <td>-4.2396</td>\n",
       "      <td>2450566.77</td>\n",
       "      <td>2451318.86</td>\n",
       "      <td>18.751000</td>\n",
       "      <td>0.016000</td>\n",
       "      <td>17.712000</td>\n",
       "      <td>...</td>\n",
       "      <td>True</td>\n",
       "      <td>False</td>\n",
       "      <td>False</td>\n",
       "      <td>False</td>\n",
       "      <td>True</td>\n",
       "      <td>False</td>\n",
       "      <td>False</td>\n",
       "    </tr>\n",
       "    <tr>\n",
       "      <th>138933</th>\n",
       "      <td>254.1712</td>\n",
       "      <td>-4.0354</td>\n",
       "      <td>2450566.77</td>\n",
       "      <td>2451318.86</td>\n",
       "      <td>20.865000</td>\n",
       "      <td>0.054000</td>\n",
       "      <td>19.714000</td>\n",
       "      <td>...</td>\n",
       "      <td>True</td>\n",
       "      <td>False</td>\n",
       "      <td>False</td>\n",
       "      <td>False</td>\n",
       "      <td>True</td>\n",
       "      <td>False</td>\n",
       "      <td>False</td>\n",
       "    </tr>\n",
       "    <tr>\n",
       "      <th>138934</th>\n",
       "      <td>254.1713</td>\n",
       "      <td>-4.0800</td>\n",
       "      <td>2450566.77</td>\n",
       "      <td>2451318.86</td>\n",
       "      <td>22.514000</td>\n",
       "      <td>0.198000</td>\n",
       "      <td>20.948000</td>\n",
       "      <td>...</td>\n",
       "      <td>True</td>\n",
       "      <td>False</td>\n",
       "      <td>False</td>\n",
       "      <td>False</td>\n",
       "      <td>True</td>\n",
       "      <td>False</td>\n",
       "      <td>False</td>\n",
       "    </tr>\n",
       "  </tbody>\n",
       "</table>\n",
       "<p>138935 rows × 16 columns</p>\n",
       "</div>"
      ],
      "text/plain": [
       "              ra     dec    starthjd      endhjd       vmag      verr  \\\n",
       "0       103.0431  0.4158  2453047.76  2453058.94  20.670804  0.091144   \n",
       "1       102.9154  0.4254  2453047.76  2453058.94  20.670804  0.091144   \n",
       "2       102.9629  0.4276  2453047.76  2453058.94  20.670804  0.091144   \n",
       "3       103.0485  0.4260  2453047.76  2453058.94  20.670804  0.091144   \n",
       "4       102.9760  0.4326  2453047.76  2453058.94  20.670804  0.091144   \n",
       "...          ...     ...         ...         ...        ...       ...   \n",
       "138930  254.1711 -4.0903  2450566.77  2451318.86  18.904000  0.016000   \n",
       "138931  254.1712 -4.0854  2450931.78  2451052.53  16.355000  0.010000   \n",
       "138932  254.1712 -4.2396  2450566.77  2451318.86  18.751000  0.016000   \n",
       "138933  254.1712 -4.0354  2450566.77  2451318.86  20.865000  0.054000   \n",
       "138934  254.1713 -4.0800  2450566.77  2451318.86  22.514000  0.198000   \n",
       "\n",
       "             imag  ...  region_M10  region_M12  region_NGC2301  \\\n",
       "0       19.454649  ...       False       False            True   \n",
       "1       19.454649  ...       False       False            True   \n",
       "2       19.454649  ...       False       False            True   \n",
       "3       19.454649  ...       False       False            True   \n",
       "4       19.454649  ...       False       False            True   \n",
       "...           ...  ...         ...         ...             ...   \n",
       "138930  18.022000  ...        True       False           False   \n",
       "138931  15.232000  ...        True       False           False   \n",
       "138932  17.712000  ...        True       False           False   \n",
       "138933  19.714000  ...        True       False           False   \n",
       "138934  20.948000  ...        True       False           False   \n",
       "\n",
       "        region_NGC3201  lcfil_I  lcfil_R  lcfil_V  \n",
       "0                False    False     True    False  \n",
       "1                False    False     True    False  \n",
       "2                False    False     True    False  \n",
       "3                False    False     True    False  \n",
       "4                False    False     True    False  \n",
       "...                ...      ...      ...      ...  \n",
       "138930           False     True    False    False  \n",
       "138931           False     True    False    False  \n",
       "138932           False     True    False    False  \n",
       "138933           False     True    False    False  \n",
       "138934           False     True    False    False  \n",
       "\n",
       "[138935 rows x 16 columns]"
      ]
     },
     "execution_count": 88,
     "metadata": {},
     "output_type": "execute_result"
    }
   ],
   "source": [
    "df_encoded"
   ]
  },
  {
   "cell_type": "code",
   "execution_count": 89,
   "metadata": {},
   "outputs": [
    {
     "data": {
      "text/plain": [
       "ra                0\n",
       "dec               0\n",
       "starthjd          0\n",
       "endhjd            0\n",
       "vmag              0\n",
       "verr              0\n",
       "imag              0\n",
       "ierr              0\n",
       "npts              0\n",
       "region_M10        0\n",
       "region_M12        0\n",
       "region_NGC2301    0\n",
       "region_NGC3201    0\n",
       "lcfil_I           0\n",
       "lcfil_R           0\n",
       "lcfil_V           0\n",
       "dtype: int64"
      ]
     },
     "execution_count": 89,
     "metadata": {},
     "output_type": "execute_result"
    }
   ],
   "source": [
    "df_encoded.isnull().sum()"
   ]
  },
  {
   "cell_type": "markdown",
   "metadata": {},
   "source": [
    "- at this stage dataset is ready for next steps\n"
   ]
  },
  {
   "cell_type": "code",
   "execution_count": 90,
   "metadata": {},
   "outputs": [],
   "source": [
    "data = df_encoded.copy()"
   ]
  },
  {
   "cell_type": "markdown",
   "metadata": {},
   "source": [
    "# Task 4 -- Exploratory Data Analysis\n"
   ]
  },
  {
   "cell_type": "markdown",
   "metadata": {},
   "source": [
    "<div class=\"alert alert-block alert-warning\"> \n",
    "Present 3 highlights from the exploratory data analysis in your draft.\n",
    "\n",
    "(Commented code + bullet points, add cells below under the respective hightlight headlines)\n"
   ]
  },
  {
   "cell_type": "code",
   "execution_count": 91,
   "metadata": {},
   "outputs": [
    {
     "name": "stdout",
     "output_type": "stream",
     "text": [
      "<class 'pandas.core.frame.DataFrame'>\n",
      "RangeIndex: 138935 entries, 0 to 138934\n",
      "Data columns (total 16 columns):\n",
      " #   Column          Non-Null Count   Dtype  \n",
      "---  ------          --------------   -----  \n",
      " 0   ra              138935 non-null  float64\n",
      " 1   dec             138935 non-null  float64\n",
      " 2   starthjd        138935 non-null  float64\n",
      " 3   endhjd          138935 non-null  float64\n",
      " 4   vmag            138935 non-null  float64\n",
      " 5   verr            138935 non-null  float64\n",
      " 6   imag            138935 non-null  float64\n",
      " 7   ierr            138935 non-null  float64\n",
      " 8   npts            138935 non-null  int64  \n",
      " 9   region_M10      138935 non-null  bool   \n",
      " 10  region_M12      138935 non-null  bool   \n",
      " 11  region_NGC2301  138935 non-null  bool   \n",
      " 12  region_NGC3201  138935 non-null  bool   \n",
      " 13  lcfil_I         138935 non-null  bool   \n",
      " 14  lcfil_R         138935 non-null  bool   \n",
      " 15  lcfil_V         138935 non-null  bool   \n",
      "dtypes: bool(7), float64(8), int64(1)\n",
      "memory usage: 10.5 MB\n"
     ]
    }
   ],
   "source": [
    "data.info()"
   ]
  },
  {
   "cell_type": "markdown",
   "metadata": {},
   "source": [
    "## EDA Highlight 1\n"
   ]
  },
  {
   "cell_type": "markdown",
   "metadata": {},
   "source": [
    "### Differentiation number of measurement points by region\n",
    "\n",
    "* considering that column npts is the number of measurement points\n",
    "* This could refer us to further investigate the number of measurement points by region to get which region we should focus more on\n",
    "* Respectively this outcome comes from observed data but still we can intestigate more less observed data to get deep into clusters of this region "
   ]
  },
  {
   "cell_type": "code",
   "execution_count": 92,
   "metadata": {},
   "outputs": [
    {
     "name": "stderr",
     "output_type": "stream",
     "text": [
      "/tmp/ipykernel_1512864/1814034952.py:9: MatplotlibDeprecationWarning: The 'labels' parameter of boxplot() has been renamed 'tick_labels' since Matplotlib 3.9; support for the old name will be dropped in 3.11.\n",
      "  plt.boxplot(box_data, labels=['M10', 'M12', 'NGC2301', 'NGC3201'])\n"
     ]
    },
    {
     "data": {
      "image/png": "[encoded data removed]",
      "text/plain": [
       "<Figure size 1200x600 with 1 Axes>"
      ]
     },
     "metadata": {},
     "output_type": "display_data"
    }
   ],
   "source": [
    "plt.figure(figsize=(12, 6))\n",
    "\n",
    "npts_M10 = data[data['region_M10']]['npts']\n",
    "npts_M12 = data[data['region_M12']]['npts']\n",
    "npts_NGC2301 = data[data['region_NGC2301']]['npts']\n",
    "npts_NGC3201 = data[data['region_NGC3201']]['npts']\n",
    "\n",
    "box_data = [npts_M10, npts_M12, npts_NGC2301, npts_NGC3201]\n",
    "plt.boxplot(box_data, labels=['M10', 'M12', 'NGC2301', 'NGC3201'])\n",
    "\n",
    "plt.title('Distribution of Number of Points per Region', pad=20)\n",
    "plt.ylabel('Number of Points (npts)')\n",
    "plt.grid(True, alpha=0.3)\n",
    "\n",
    "plt.tight_layout()\n",
    "\n",
    "plt.show()\n"
   ]
  },
  {
   "cell_type": "markdown",
   "metadata": {},
   "source": [
    "## EDA Highlight 2\n"
   ]
  },
  {
   "cell_type": "markdown",
   "metadata": {},
   "source": [
    "### Distribution of Magnitudes by Regions\n",
    "\n",
    "* gives interest in how different regions are distributed in terms of researching color brightness\n",
    "* considering lower values of magnitude refers to higher brightness\n",
    "* Difference between regions is visible data and it hides some information I guess"
   ]
  },
  {
   "cell_type": "code",
   "execution_count": 93,
   "metadata": {},
   "outputs": [
    {
     "data": {
      "text/plain": [
       "Index(['ra', 'dec', 'starthjd', 'endhjd', 'vmag', 'verr', 'imag', 'ierr',\n",
       "       'npts', 'region_M10', 'region_M12', 'region_NGC2301', 'region_NGC3201',\n",
       "       'lcfil_I', 'lcfil_R', 'lcfil_V'],\n",
       "      dtype='object')"
      ]
     },
     "execution_count": 93,
     "metadata": {},
     "output_type": "execute_result"
    }
   ],
   "source": [
    "data.columns"
   ]
  },
  {
   "cell_type": "code",
   "execution_count": 94,
   "metadata": {},
   "outputs": [
    {
     "data": {
      "image/png": "[encoded data removed]",
      "text/plain": [
       "<Figure size 2000x600 with 2 Axes>"
      ]
     },
     "metadata": {},
     "output_type": "display_data"
    }
   ],
   "source": [
    "fig, (ax1, ax2) = plt.subplots(1, 2, figsize=(20, 6))\n",
    "\n",
    "regions = ['M10', 'M12', 'NGC2301', 'NGC3201']\n",
    "\n",
    "def get_data(data, mag_col):\n",
    "    return [data[data[f'region_{region}']][mag_col] for region in regions]\n",
    "\n",
    "\n",
    "bplot1 = ax1.boxplot(get_data(data, 'vmag'))\n",
    "ax1.set_title('B Magnitude Distribution by Region')\n",
    "ax1.set_xticklabels(regions, rotation=45)\n",
    "ax1.set_ylabel('B Magnitude')\n",
    "ax1.grid(True, alpha=0.3)\n",
    "\n",
    "bplot2 = ax2.boxplot(get_data(data, 'imag'))\n",
    "ax2.set_title('R Magnitude Distribution by Region')\n",
    "ax2.set_xticklabels(regions, rotation=45)\n",
    "ax2.set_ylabel('I Magnitude')\n",
    "ax2.grid(True, alpha=0.3)\n",
    "\n",
    "plt.tight_layout()\n",
    "\n",
    "plt.show()"
   ]
  },
  {
   "cell_type": "markdown",
   "metadata": {},
   "source": [
    "## EDA Highlight 3\n"
   ]
  },
  {
   "cell_type": "markdown",
   "metadata": {},
   "source": [
    "### Here we go..\n",
    "\n",
    "* this result show uncovered challenge which I face and did  not expect to see\n",
    "* During reading about this data it was mentioned that this data is star clusters data\n",
    "* considering nature of of this data and all its characteristics stars are preaty close to each other and combined in one cluster its not easy to find them from this plot\n",
    "* but next challenge which I am gonna face is to find the sub clusters in each already formed cluster "
   ]
  },
  {
   "cell_type": "code",
   "execution_count": 95,
   "metadata": {},
   "outputs": [
    {
     "data": {
      "image/png": "[encoded data removed]",
      "text/plain": [
       "<Figure size 640x480 with 2 Axes>"
      ]
     },
     "metadata": {},
     "output_type": "display_data"
    }
   ],
   "source": [
    "plt.scatter(data['ra'], data['dec'], c=data['npts'], cmap='viridis')\n",
    "plt.colorbar(label='Number of Points')\n",
    "plt.xlabel('Right Ascension (RA)')\n",
    "plt.ylabel('Declination (Dec)')\n",
    "plt.title('Scatter Plot of Number of Points vs. Right Ascension and Declination')\n",
    "plt.show()"
   ]
  },
  {
   "cell_type": "markdown",
   "metadata": {},
   "source": [
    "# Task 5 -- Dimensionality Reduction\n"
   ]
  },
  {
   "cell_type": "markdown",
   "metadata": {},
   "source": [
    "<div class=\"alert alert-block alert-warning\"> \n",
    "<b>PCA</b>: \n",
    "Conduct your analyses and transformations according to Task 5.\n",
    "Call the transformed dataset \"data_pca\".\n",
    "\n",
    "(Commented code + bullet points, add cells below)\n",
    "\n",
    "</div>\n"
   ]
  },
  {
   "cell_type": "code",
   "execution_count": 107,
   "metadata": {},
   "outputs": [],
   "source": [
    "scaler = StandardScaler()\n",
    "X_scaled = scaler.fit_transform(data)"
   ]
  },
  {
   "cell_type": "code",
   "execution_count": 108,
   "metadata": {},
   "outputs": [
    {
     "name": "stdout",
     "output_type": "stream",
     "text": [
      "First few rows of scaled data:\n",
      "          ra       dec  starthjd    endhjd  vmag          verr          imag  \\\n",
      "0 -2.023071  1.013467  5.260241  5.107296   0.0 -2.985652e-16  2.776733e-15   \n",
      "1 -2.025551  1.013914  5.260241  5.107296   0.0 -2.985652e-16  2.776733e-15   \n",
      "2 -2.024628  1.014016  5.260241  5.107296   0.0 -2.985652e-16  2.776733e-15   \n",
      "3 -2.022966  1.013942  5.260241  5.107296   0.0 -2.985652e-16  2.776733e-15   \n",
      "4 -2.024374  1.014249  5.260241  5.107296   0.0 -2.985652e-16  2.776733e-15   \n",
      "\n",
      "   ...  region_M12  region_NGC2301  region_NGC3201   lcfil_I   lcfil_R  \\\n",
      "0  ...   -0.551231        5.837443       -0.854908 -1.000828  5.837443   \n",
      "1  ...   -0.551231        5.837443       -0.854908 -1.000828  5.837443   \n",
      "2  ...   -0.551231        5.837443       -0.854908 -1.000828  5.837443   \n",
      "3  ...   -0.551231        5.837443       -0.854908 -1.000828  5.837443   \n",
      "4  ...   -0.551231        5.837443       -0.854908 -1.000828  5.837443   \n",
      "\n",
      "    lcfil_V   cluster  \n",
      "0 -0.943733  2.527978  \n",
      "1 -0.943733  2.527978  \n",
      "2 -0.943733  2.527978  \n",
      "3 -0.943733  2.527978  \n",
      "4 -0.943733  2.527978  \n",
      "\n",
      "[5 rows x 17 columns]\n"
     ]
    }
   ],
   "source": [
    "data_scaled = pd.DataFrame(X_scaled, columns=data.columns)\n",
    "print(\"First few rows of scaled data:\\n\", data_scaled.head())"
   ]
  },
  {
   "cell_type": "code",
   "execution_count": 109,
   "metadata": {},
   "outputs": [
    {
     "name": "stdout",
     "output_type": "stream",
     "text": [
      "Shape of data_pca: (138935, 2)\n",
      "Explained variance ratio: [0.28306705 0.23913318]\n",
      "Total variance explained: 0.5222002319158294\n"
     ]
    }
   ],
   "source": [
    "pca = PCA(n_components=2)\n",
    "X_pca = pca.fit_transform(data_scaled)\n",
    "\n",
    "# Create the transformed dataset \"data_pca\"\n",
    "data_pca = pd.DataFrame(X_pca, columns=['PC1', 'PC2'])\n",
    "print(\"Shape of data_pca:\", data_pca.shape)\n",
    "\n",
    "# Check explained variance ratio\n",
    "print(\"Explained variance ratio:\", pca.explained_variance_ratio_)\n",
    "print(\"Total variance explained:\", sum(pca.explained_variance_ratio_))"
   ]
  },
  {
   "cell_type": "code",
   "execution_count": 110,
   "metadata": {},
   "outputs": [
    {
     "name": "stdout",
     "output_type": "stream",
     "text": [
      "Number of stars per cluster:\n",
      " cluster\n",
      "0    76289\n",
      "1    58685\n",
      "2     3961\n",
      "Name: count, dtype: int64\n"
     ]
    }
   ],
   "source": []
  },
  {
   "cell_type": "code",
   "execution_count": 114,
   "metadata": {},
   "outputs": [
    {
     "data": {
      "text/plain": [
       "array([2, 1, 0], dtype=int32)"
      ]
     },
     "execution_count": 114,
     "metadata": {},
     "output_type": "execute_result"
    }
   ],
   "source": []
  },
  {
   "cell_type": "code",
   "execution_count": null,
   "metadata": {},
   "outputs": [],
   "source": []
  },
  {
   "cell_type": "markdown",
   "metadata": {},
   "source": [
    "# Task 6 -- Clustering\n"
   ]
  },
  {
   "cell_type": "markdown",
   "metadata": {},
   "source": [
    "<div class=\"alert alert-block alert-warning\"> \n",
    "<b>Choice of Algorithm</b>: \n",
    "Given the situation in the pitch and the results from the above analyses. Which algorithm (chosen from those discussed in the lectures) would YOU choose for the clustering? Explain!\n",
    "    \n",
    "(Choice + 1-3 bullet points in the cell below)\n",
    "</div>\n"
   ]
  },
  {
   "cell_type": "code",
   "execution_count": null,
   "metadata": {},
   "outputs": [],
   "source": []
  },
  {
   "cell_type": "markdown",
   "metadata": {},
   "source": [
    "My Choice: ...\n",
    "\n",
    "-\n"
   ]
  },
  {
   "cell_type": "code",
   "execution_count": null,
   "metadata": {},
   "outputs": [],
   "source": [
    "kmeans = KMeans(n_clusters=3, random_state=42)\n",
    "data_pca['cluster'] = kmeans.fit_predict(data_pca[['PC1', 'PC2']])\n",
    "\n",
    "# Print cluster distribution\n",
    "print(\"Number of stars per cluster:\\n\", data_pca['cluster'].value_counts())"
   ]
  },
  {
   "cell_type": "code",
   "execution_count": null,
   "metadata": {},
   "outputs": [],
   "source": [
    "plt.scatter(data_pca['PC1'], data_pca['PC2'], c=data_pca['cluster'], alpha=0.5, s=50)\n",
    "plt.xlabel('Principal Component 1 (PC1)')\n",
    "plt.ylabel('Principal Component 2 (PC2)')\n",
    "plt.title(f'Clusters in {region_name} (PCA Space)')\n",
    "plt.colorbar(label='Cluster Label')\n",
    "plt.show()\n",
    "\n",
    "\n",
    "# Zoom in to the region's range\n",
    "ra_min, ra_max = data['ra'].min(), data['ra'].max()\n",
    "dec_min, dec_max = data['dec'].min(), data['dec'].max()\n",
    "plt.xlim(ra_min - 0.1, ra_max + 0.1)\n",
    "plt.ylim(dec_min - 0.1, dec_max + 0.1)\n",
    "plt.show()"
   ]
  },
  {
   "cell_type": "markdown",
   "metadata": {},
   "source": [
    "<div class=\"alert alert-block alert-danger\"> \n",
    "<b>Requirements</b>: \n",
    "In the following and for the remainder of the final phase of the exam (indenpendent of what your choice above suggests), use\n",
    "\n",
    "- a clustering algorithm $A$ chosen from the family: **k-means/k-means++**\n",
    "- the evaluation metric $E_1$: **Silhouette Score**\n",
    "- the evaluation metric $E_2$: **Davies-Bouldin Index**.\n",
    "</div>\n"
   ]
  },
  {
   "cell_type": "markdown",
   "metadata": {},
   "source": [
    "## Comprehensive clustering analysis\n",
    "\n",
    "<div class=\"alert alert-block alert-warning\"> \n",
    "<b>Clustering</b>: \n",
    "On both datasets, data and data_pca, under their respective headlines below, conduct comprehensive clustering analyses with algorithm $A$, using the available methodology from the module and specifically $E_1$ and $E_2$. Conduct ALL necessary steps to create the most helpful and meaningful clustering per dataset and discuss its quality. Use appropriate diagrams to demonstrate the results.\n",
    "\n",
    "(Commented code + bullet points, add cells)\n",
    "\n",
    "</div>\n"
   ]
  },
  {
   "cell_type": "markdown",
   "metadata": {},
   "source": [
    "### Clustering Analysis of plain data\n"
   ]
  },
  {
   "cell_type": "code",
   "execution_count": null,
   "metadata": {},
   "outputs": [],
   "source": []
  },
  {
   "cell_type": "markdown",
   "metadata": {},
   "source": [
    "### Clustering Analysis of PCA transformed data\n"
   ]
  },
  {
   "cell_type": "code",
   "execution_count": null,
   "metadata": {},
   "outputs": [],
   "source": []
  },
  {
   "cell_type": "markdown",
   "metadata": {},
   "source": [
    "# Task 7 -- Clustering Comparison\n"
   ]
  },
  {
   "cell_type": "markdown",
   "metadata": {},
   "source": [
    "<div class=\"alert alert-block alert-warning\"> \n",
    "<b>Comparison</b>: \n",
    "Compare both clustering from the previous task as described in Task 7.\n",
    "\n",
    "(Commented code + bullet points, add cells below)\n",
    "\n",
    "</div>\n"
   ]
  },
  {
   "cell_type": "code",
   "execution_count": null,
   "metadata": {},
   "outputs": [],
   "source": []
  },
  {
   "cell_type": "markdown",
   "metadata": {},
   "source": [
    "# Task 8 -- Conclusions and Future Work\n",
    "\n",
    "<div class=\"alert alert-block alert-warning\"> \n",
    "<b>Subtasks</b>: \n",
    "For each subtask, create a fitting headline and add additional code and markdown cells below to conduct the respective task.\n",
    "    \n",
    "(Commented code + bullet points, add cells below)\n",
    "</div>\n"
   ]
  },
  {
   "cell_type": "code",
   "execution_count": 96,
   "metadata": {},
   "outputs": [
    {
     "data": {
      "image/png": "[encoded data removed]",
      "text/plain": [
       "<Figure size 640x480 with 2 Axes>"
      ]
     },
     "metadata": {},
     "output_type": "display_data"
    }
   ],
   "source": [
    "from sklearn.cluster import KMeans\n",
    "import matplotlib.pyplot as plt\n",
    "\n",
    "# Prepare data for clustering (ra, dec, npts)\n",
    "X = data\n",
    "\n",
    "# Run K-means with 3 clusters (you can adjust this)\n",
    "kmeans = KMeans(n_clusters=3, random_state=42)\n",
    "data['cluster'] = kmeans.fit_predict(X)\n",
    "\n",
    "plt.scatter(data['ra'], data['dec'], c=data['cluster'], cmap='tab10', s=data['npts']*0.5, alpha=0.5)\n",
    "plt.xlabel('Right Ascension (RA)')\n",
    "plt.ylabel('Declination (Dec)')\n",
    "plt.title('Scatter Plot of Stars with K-means Clusters (Size by npts)')\n",
    "plt.colorbar(label='Cluster Label')\n",
    "plt.show()"
   ]
  },
  {
   "cell_type": "code",
   "execution_count": 97,
   "metadata": {},
   "outputs": [
    {
     "data": {
      "text/plain": [
       "array([ 0.4158,  0.4254,  0.4276, ..., -3.9378, -3.903 , -3.8988],\n",
       "      shape=(14229,))"
      ]
     },
     "execution_count": 97,
     "metadata": {},
     "output_type": "execute_result"
    }
   ],
   "source": [
    "data['dec'].unique()"
   ]
  },
  {
   "cell_type": "code",
   "execution_count": 98,
   "metadata": {},
   "outputs": [
    {
     "data": {
      "text/plain": [
       "array([103.0431, 102.9154, 102.9629, ..., 254.1483, 254.1485, 254.1512],\n",
       "      shape=(15676,))"
      ]
     },
     "execution_count": 98,
     "metadata": {},
     "output_type": "execute_result"
    }
   ],
   "source": [
    "data['ra'].unique()"
   ]
  },
  {
   "cell_type": "code",
   "execution_count": 99,
   "metadata": {},
   "outputs": [
    {
     "name": "stdout",
     "output_type": "stream",
     "text": [
      "Number of unique (ra, dec) pairs: 103801\n",
      "Total rows: 138935\n"
     ]
    }
   ],
   "source": [
    "unique_coords = data[['ra', 'dec']].drop_duplicates().shape[0]\n",
    "print(\"Number of unique (ra, dec) pairs:\", unique_coords)\n",
    "\n",
    "# Check the full data\n",
    "print(\"Total rows:\", data.shape[0])"
   ]
  },
  {
   "cell_type": "code",
   "execution_count": null,
   "metadata": {},
   "outputs": [
    {
     "name": "stdout",
     "output_type": "stream",
     "text": [
      "Shape after aggregating duplicates: (103801, 3)\n",
      "Number of cluster labels: 103801\n",
      "Unique cluster labels: [2 0 1]\n"
     ]
    }
   ],
   "source": [
    "data = data.groupby(['ra', 'dec'])['npts'].mean().reset_index()\n",
    "\n",
    "print(\"Shape after aggregating duplicates:\", data.shape)\n",
    "\n",
    "\n",
    "from sklearn.cluster import KMeans\n",
    "\n",
    "# Prepare data for clustering\n",
    "X = data[['ra', 'dec', 'npts']]\n",
    "\n",
    "# Apply K-means\n",
    "kmeans = KMeans(n_clusters=3, random_state=42)\n",
    "data['cluster'] = kmeans.fit_predict(X)\n",
    "\n",
    "print(\"Number of cluster labels:\", len(data['cluster']))\n",
    "print(\"Unique cluster labels:\", data['cluster'].unique())"
   ]
  },
  {
   "cell_type": "code",
   "execution_count": null,
   "metadata": {},
   "outputs": [
    {
     "data": {
      "image/png": "[encoded data removed]",
      "text/plain": [
       "<Figure size 640x480 with 2 Axes>"
      ]
     },
     "metadata": {},
     "output_type": "display_data"
    }
   ],
   "source": [
    "import matplotlib.pyplot as plt\n",
    "\n",
    "# Scatter plot with clusters\n",
    "plt.scatter(data['ra'], data['dec'], c=data['cluster'], cmap='tab10', alpha=0.5, s=50)\n",
    "plt.xlabel('Right Ascension (RA)')\n",
    "plt.ylabel('Declination (Dec)')\n",
    "plt.title('Scatter Plot of Stars with K-means Clusters')\n",
    "plt.colorbar(label='Cluster Label')\n",
    "plt.xlim(100, 260)  # Based on ra range 102.75–254.49\n",
    "plt.ylim(-50, 5)    # Based on dec range -46.61–0.69\n",
    "plt.show()"
   ]
  },
  {
   "cell_type": "code",
   "execution_count": 102,
   "metadata": {},
   "outputs": [
    {
     "name": "stdout",
     "output_type": "stream",
     "text": [
      "Number of stars per cluster: cluster\n",
      "1    55509\n",
      "0    44377\n",
      "2     3915\n",
      "Name: count, dtype: int64\n"
     ]
    }
   ],
   "source": [
    "print(\"Number of stars per cluster:\", data['cluster'].value_counts())"
   ]
  },
  {
   "cell_type": "code",
   "execution_count": null,
   "metadata": {},
   "outputs": [
    {
     "data": {
      "image/png": "[encoded data removed]",
      "text/plain": [
       "<Figure size 640x480 with 2 Axes>"
      ]
     },
     "metadata": {},
     "output_type": "display_data"
    }
   ],
   "source": [
    "import matplotlib.pyplot as plt\n",
    "\n",
    "# Scatter plot with adjustments\n",
    "plt.scatter(data['ra'], data['dec'], c=data['cluster'], cmap='tab10', alpha=0.1, s=5)\n",
    "plt.xlabel('Right Ascension (RA)')\n",
    "plt.ylabel('Declination (Dec)')\n",
    "plt.title('Scatter Plot of Stars with K-means Clusters')\n",
    "plt.colorbar(label='Cluster Label')\n",
    "plt.xlim(100, 260)  # Based on ra range 102.75–254.49\n",
    "plt.ylim(-50, 5)    # Based on dec range -46.61–0.69\n",
    "plt.show()"
   ]
  },
  {
   "cell_type": "code",
   "execution_count": 104,
   "metadata": {},
   "outputs": [
    {
     "name": "stdout",
     "output_type": "stream",
     "text": [
      "RA range: 102.7501 to 254.4868\n",
      "Dec range: -46.6116 to 0.6908\n"
     ]
    }
   ],
   "source": [
    "print(\"RA range:\", data['ra'].min(), \"to\", data['ra'].max())\n",
    "print(\"Dec range:\", data['dec'].min(), \"to\", data['dec'].max())"
   ]
  },
  {
   "cell_type": "code",
   "execution_count": null,
   "metadata": {},
   "outputs": [
    {
     "data": {
      "image/png": "[encoded data removed]",
      "text/plain": [
       "<Figure size 640x480 with 2 Axes>"
      ]
     },
     "metadata": {},
     "output_type": "display_data"
    },
    {
     "data": {
      "image/png": "[encoded data removed]",
      "text/plain": [
       "<Figure size 640x480 with 2 Axes>"
      ]
     },
     "metadata": {},
     "output_type": "display_data"
    }
   ],
   "source": [
    "import pandas as pd\n",
    "import matplotlib.pyplot as plt\n",
    "from sklearn.cluster import KMeans\n",
    "\n",
    "# Aggregate duplicates\n",
    "data = data.groupby(['ra', 'dec'])['npts'].mean().reset_index()\n",
    "\n",
    "# Prepare data for clustering\n",
    "X = data[['ra', 'dec', 'npts']]\n",
    "\n",
    "# Apply K-means\n",
    "kmeans = KMeans(n_clusters=3, random_state=42)\n",
    "data['cluster'] = kmeans.fit_predict(X)\n",
    "\n",
    "# Plot clusters\n",
    "plt.scatter(data['ra'], data['dec'], c=data['cluster'], cmap='tab10', alpha=0.1, s=5)\n",
    "plt.xlabel('Right Ascension (RA)')\n",
    "plt.ylabel('Declination (Dec)')\n",
    "plt.title('Scatter Plot of Stars with K-means Clusters')\n",
    "plt.colorbar(label='Cluster Label')\n",
    "plt.xlim(100, 260)\n",
    "plt.ylim(-50, 5)\n",
    "plt.show()\n",
    "\n",
    "# Optional: Hexbin plot\n",
    "plt.hexbin(data['ra'], data['dec'], C=data['cluster'], cmap='tab10', gridsize=50)\n",
    "plt.colorbar(label='Cluster Label (Average)')\n",
    "plt.xlabel('Right Ascension (RA)')\n",
    "plt.ylabel('Declination (Dec)')\n",
    "plt.title('Hexbin Plot of Stars with K-means Clusters')\n",
    "plt.xlim(100, 260)\n",
    "plt.ylim(-50, 5)\n",
    "plt.show()"
   ]
  },
  {
   "cell_type": "code",
   "execution_count": null,
   "metadata": {},
   "outputs": [
    {
     "name": "stdout",
     "output_type": "stream",
     "text": [
      "Number of stars in NGC2301: 3915\n",
      "Number of stars per cluster: cluster\n",
      "2    1921\n",
      "1    1319\n",
      "0     675\n",
      "Name: count, dtype: int64\n"
     ]
    },
    {
     "data": {
      "image/png": "[encoded data removed]",
      "text/plain": [
       "<Figure size 640x480 with 2 Axes>"
      ]
     },
     "metadata": {},
     "output_type": "display_data"
    }
   ],
   "source": [
    "import pandas as pd\n",
    "import matplotlib.pyplot as plt\n",
    "from sklearn.cluster import KMeans\n",
    "\n",
    "# Filter data for a specific region (e.g., NGC2301)\n",
    "region_name = 'NGC2301'  # Change to 'M10', 'M12', or 'NGC3201' as needed\n",
    "data_region = data[data['region_NGC2301']==True]\n",
    "\n",
    "# Aggregate duplicates by averaging npts for the region\n",
    "data = data_region.groupby(['ra', 'dec'])['npts'].mean().reset_index()\n",
    "\n",
    "# Prepare data for clustering\n",
    "X = data[['ra', 'dec', 'npts']]\n",
    "\n",
    "# Apply K-means clustering (start with 3 clusters)\n",
    "kmeans = KMeans(n_clusters=3, random_state=42)\n",
    "data['cluster'] = kmeans.fit_predict(X)\n",
    "\n",
    "# Print cluster distribution to check\n",
    "print(f\"Number of stars in {region_name}:\", len(data))\n",
    "print(\"Number of stars per cluster:\", data['cluster'].value_counts())\n",
    "\n",
    "# Scatter plot to visualize clusters\n",
    "plt.scatter(data['ra'], data['dec'], c=data['cluster'], cmap='tab10', alpha=0.5, s=50)\n",
    "plt.xlabel('Right Ascension (RA)')\n",
    "plt.ylabel('Declination (Dec)')\n",
    "plt.title(f'Scatter Plot of Clusters in {region_name}')\n",
    "plt.colorbar(label='Cluster Label')\n",
    "# plt.xlim(102.5, 103.5)  # Adjust based on your data range (102.75–254.49)\n",
    "# plt.ylim(-2, 2)    # Adjust based on your data range (-46.61–0.69)\n",
    "plt.xlim(102.7, 103.4)  # Example range for NGC2301\n",
    "plt.ylim(0.20, 0.8)\n",
    "\n",
    "plt.show()"
   ]
  },
  {
   "cell_type": "code",
   "execution_count": null,
   "metadata": {},
   "outputs": [],
   "source": []
  }
 ],
 "metadata": {
  "kernelspec": {
   "display_name": ".venv",
   "language": "python",
   "name": "python3"
  },
  "language_info": {
   "codemirror_mode": {
    "name": "ipython",
    "version": 3
   },
   "file_extension": ".py",
   "mimetype": "text/x-python",
   "name": "python",
   "nbconvert_exporter": "python",
   "pygments_lexer": "ipython3",
   "version": "3.10.12"
  }
 },
 "nbformat": 4,
 "nbformat_minor": 4
}
